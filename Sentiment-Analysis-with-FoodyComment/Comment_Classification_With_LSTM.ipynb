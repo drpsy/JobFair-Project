{
  "cells": [
    {
      "attachments": {},
      "cell_type": "markdown",
      "metadata": {
        "id": "Z9fn2rkoA0mu"
      },
      "source": []
    },
    {
      "attachments": {},
      "cell_type": "markdown",
      "metadata": {
        "id": "B7eAFzxRA3V2"
      },
      "source": [
        "### LSTMs Sentiment Analysis\n"
      ]
    },
    {
      "cell_type": "code",
      "execution_count": 2,
      "metadata": {
        "colab": {
          "base_uri": "https://localhost:8080/"
        },
        "id": "3Bvw9mruuzzx",
        "outputId": "4c14c5ca-bef6-4f2a-ec53-83bda33514b5"
      },
      "outputs": [
        {
          "name": "stdout",
          "output_type": "stream",
          "text": [
            "Mounted at /content/drive\n"
          ]
        }
      ],
      "source": [
        "from google.colab import drive\n",
        "drive.mount('/content/drive')"
      ]
    },
    {
      "cell_type": "code",
      "execution_count": 3,
      "metadata": {
        "colab": {
          "base_uri": "https://localhost:8080/"
        },
        "id": "4iN0E5g4BGmZ",
        "outputId": "50d15798-6d0b-4a7c-b95a-c7c637f5002a"
      },
      "outputs": [
        {
          "name": "stdout",
          "output_type": "stream",
          "text": [
            "/content/drive/MyDrive/Jobfair-Project/Sentiment-Analysis-Commentwith-Foody\n"
          ]
        }
      ],
      "source": [
        "%cd \"/content/drive/MyDrive/Jobfair-Project/Sentiment-Analysis-Commentwith-Foody\""
      ]
    },
    {
      "attachments": {},
      "cell_type": "markdown",
      "metadata": {
        "id": "0o_oBFAUCd5a"
      },
      "source": [
        "### Introduction\n",
        "\n",
        "今日の急成長する電子商取引業界では、ユーザーのコメントの収集と分析が重要です。これらのコメントには、コンテンツのフィルタリング、関連アイテムや場所の推奨、製品やサービスの品質評価に役立つ貴重な情報が含まれています。ただし、毎日受け取るコメントの数が多いため、ユーザーのコメントを分類することは困難で、リソースが必要です。AIとディープラーニングモデルの進歩により、高い精度でこの問題を解決することができるようになりました。具体的には、このタスクでは、ベトナムのコメントを分析して表現された感情を特定することに焦点を当てています。\n",
        "\n",
        "![Product Review](https://techbroll.com/wp-content/uploads/2017/11/Customerfeedback.jpg)\n",
        "\n",
        "## 問題の解決方法：LSTMネットワークによる感情分析\n",
        "\n",
        "**Sentiment Analysis** (感情分析) の問題を解決するために、**LSTM** (Long Short-Term Memory, 長短期記憶) ネットワークを使用します。入力はテキストデータです。\n",
        "\n",
        "必要な出力は、テキスト内に表現された感情の種類です：ポジティブ、ネガティブ、またはニュートラル（positive - negative - neutral）。この課題では、ポジティブとネガティブの2つの感情に注目します。\n",
        "\n"
      ]
    },
    {
      "attachments": {},
      "cell_type": "markdown",
      "metadata": {
        "id": "FGMjrzBeCeT2"
      },
      "source": [
        "## **モデル**の評価方法\n",
        "トレーニングされたモデルは、3000件のラベルが非表示のコメントデータセットを使用して、F1スコアを用いて評価されます。\n",
        "\n",
        "## **解決方法**の見つけ方*\n",
        "### **dataset**\n",
        "\n",
        "私たちはFoodyウェブサイト上のレビューデータセットを使用します。このデータセットには約30,000のサンプルがあり、そのうち15,000はポジティブで、15,000はネガティブにラベル付けされています（出典：https://streetcodevn.com/blog/dataset）。\n",
        "\n",
        "以下のコードを使用して、このデータセットをダウンロードできます."
      ]
    },
    {
      "cell_type": "code",
      "execution_count": 4,
      "metadata": {
        "id": "g16NvjEfHZVK"
      },
      "outputs": [],
      "source": [
        "from google_drive_downloader import GoogleDriveDownloader as gdd\n",
        "gdd.download_file_from_google_drive(file_id='1eF0jg_8P0NnUiiL3HjBaJ8AC2T1sJXiK', dest_path='./course5data.zip', unzip=True)"
      ]
    },
    {
      "cell_type": "code",
      "execution_count": 5,
      "metadata": {
        "colab": {
          "base_uri": "https://localhost:8080/"
        },
        "id": "X8pYhE17Hx4n",
        "outputId": "b827429b-d6a4-45e2-83a5-929fec873573"
      },
      "outputs": [
        {
          "name": "stdout",
          "output_type": "stream",
          "text": [
            "/content/drive/MyDrive/Jobfair-Project/Sentiment-Analysis-Commentwith-Foody\n"
          ]
        }
      ],
      "source": [
        "!pwd"
      ]
    },
    {
      "cell_type": "code",
      "execution_count": 7,
      "metadata": {
        "colab": {
          "base_uri": "https://localhost:8080/"
        },
        "id": "LXyu3KhFImLl",
        "outputId": "3fecae57-5b8f-4837-d6f5-50d02b399851"
      },
      "outputs": [
        {
          "name": "stdout",
          "output_type": "stream",
          "text": [
            "sample_submission.csv  test.csv  train.csv  words_list.npy  word_vectors.npy\n"
          ]
        }
      ],
      "source": [
        "data_dir = 'course5data'\n",
        "!ls {data_dir}"
      ]
    },
    {
      "attachments": {},
      "cell_type": "markdown",
      "metadata": {
        "id": "hAb8cOrdIuB2"
      },
      "source": [
        "\n",
        "以下のファイルが含まれています：\n",
        "- **train.csv**: ラベル付きの27,000のデータサンプルを含むCSVファイルです。\n",
        "- **test.csv**: 評価に使用される3,000のテストサンプルを含むファイルです。\n",
        "- **sample_submission.csv**: 結果を提出する形式を示すサンプルファイルです。\n",
        "- **word_list.npy**: 処理済みのベトナム語の単語リストを含むNumpyファイルです。\n",
        "- **word_vectors.npy**: **word_list.npy**内の単語のベクトル表現を含むNumpyファイルです。\n",
        "\n",
        "\n",
        "\n"
      ]
    },
    {
      "attachments": {},
      "cell_type": "markdown",
      "metadata": {
        "id": "UhlUaQIWJA92"
      },
      "source": [
        "**ベクトル**の視点からの問題分析\n",
        "\n",
        "もしテキストの入力形式を文字列のまま保持する場合、内積（dot product）の計算やsoftmax関数への入力、バックプロパゲーションなどの数学的な操作が非常に困難になります。\n",
        "\n",
        "そのため、テキストの入力形式を文字列ではなく、計算を容易にするためにベクトル表現に変換することが重要です。これにより、内積やsoftmax関数などの演算や、バックプロパゲーションなどのニューラルネットワークアルゴリズムを実行することができます。\n",
        "\n",
        "![](https://images.viblo.asia/full/b280519a-d477-4770-80e7-15e065907f14.png)"
      ]
    },
    {
      "cell_type": "code",
      "execution_count": 8,
      "metadata": {
        "id": "PRalqxlkLg5Q"
      },
      "outputs": [],
      "source": [
        "import os\n",
        "import sys\n",
        "import time\n",
        "import datetime\n",
        "import math\n",
        "import numpy as np\n",
        "import pandas as pd\n",
        "from tqdm import tqdm\n",
        "\n",
        "from sklearn.model_selection import train_test_split\n",
        "from sklearn.metrics import f1_score\n",
        "import tensorflow as tf\n",
        "\n",
        "# Enable Eager Execution\n",
        "\n",
        "tf.executing_eagerly()\n",
        "\n",
        "import warnings\n",
        "warnings.filterwarnings(\"ignore\")"
      ]
    },
    {
      "cell_type": "code",
      "execution_count": 9,
      "metadata": {
        "colab": {
          "base_uri": "https://localhost:8080/",
          "height": 36
        },
        "id": "754FHojOMMQE",
        "outputId": "945d2b62-1ff8-43e0-b069-683f0ea16fd0"
      },
      "outputs": [
        {
          "data": {
            "application/vnd.google.colaboratory.intrinsic+json": {
              "type": "string"
            },
            "text/plain": [
              "'2.12.0'"
            ]
          },
          "execution_count": 9,
          "metadata": {},
          "output_type": "execute_result"
        }
      ],
      "source": [
        "tf.__version__\n"
      ]
    },
    {
      "attachments": {},
      "cell_type": "markdown",
      "metadata": {
        "id": "n8VSK6XFNcVX"
      },
      "source": [
        "## **トレーニングデータ**の準備\n",
        "\n",
        "データのダウンロード\n",
        "以下のコードを使用して、train.csvファイルからデータをダウンロードします。"
      ]
    },
    {
      "cell_type": "code",
      "execution_count": 10,
      "metadata": {
        "colab": {
          "base_uri": "https://localhost:8080/",
          "height": 458
        },
        "id": "8dXc6QJkNo7M",
        "outputId": "3c2052f7-cd2e-48ae-96bb-2879e730c645"
      },
      "outputs": [
        {
          "data": {
            "text/html": [
              "\n",
              "  <div id=\"df-b4d00085-e0c3-4b2d-a152-db65db57065f\">\n",
              "    <div class=\"colab-df-container\">\n",
              "      <div>\n",
              "<style scoped>\n",
              "    .dataframe tbody tr th:only-of-type {\n",
              "        vertical-align: middle;\n",
              "    }\n",
              "\n",
              "    .dataframe tbody tr th {\n",
              "        vertical-align: top;\n",
              "    }\n",
              "\n",
              "    .dataframe thead th {\n",
              "        text-align: right;\n",
              "    }\n",
              "</style>\n",
              "<table border=\"1\" class=\"dataframe\">\n",
              "  <thead>\n",
              "    <tr style=\"text-align: right;\">\n",
              "      <th></th>\n",
              "      <th>id</th>\n",
              "      <th>text</th>\n",
              "      <th>class</th>\n",
              "    </tr>\n",
              "  </thead>\n",
              "  <tbody>\n",
              "    <tr>\n",
              "      <th>0</th>\n",
              "      <td>dee6dfc5</td>\n",
              "      <td>Đến quán 2 lần thôi , rất là thích !\\r\\nQuán tuy nằm trong hẻm nhưng rất dễ tìm , quán rộng_rãi thoáng mát sạch_sẽ .\\r\\nNhân_viên phục_vụ nhiệt_tình , siêu dễ_thương .\\r\\nThực_đơn phong_phú đa_dạng , giá siêu rẻ .\\r\\nThức_ăn nêm nếm hợp_khẩu vị , ngon_miệng .\\r\\nDesert ngọt vừa , không quá ngấy , rất ngon .\\r\\nTrà sữa , uyên_ương thơm và đúng vị mình đã từng uống ở HongKong .\\r\\nNói_chung điểm 10 cho chất_lượng , thích quán lắm !</td>\n",
              "      <td>1</td>\n",
              "    </tr>\n",
              "    <tr>\n",
              "      <th>1</th>\n",
              "      <td>800813f5</td>\n",
              "      <td>Đến quán vào tối chủ_nhật . Có band hát . Khá ổn . Tuy_nhiên không_gian tầng 1 hơi hẹp . Ngồi cả ra vỉa_hè . Đồ uống ko ngon lămz</td>\n",
              "      <td>0</td>\n",
              "    </tr>\n",
              "    <tr>\n",
              "      <th>2</th>\n",
              "      <td>6553e47f</td>\n",
              "      <td>Phục_vụ lâu quá mặc_dù khách rất vắng .\\r\\nĐợi gần 15p mới mang được ly cà_phê ra . Ông này chỉ khéo quảng_bá chứ với mình chắc không quay lại_nữa .</td>\n",
              "      <td>0</td>\n",
              "    </tr>\n",
              "    <tr>\n",
              "      <th>3</th>\n",
              "      <td>b45a1ff1</td>\n",
              "      <td>Ko gian bé_tí , quán chật_chội , đông người nên phục_vụ chưa tốt . Đồ uống bình_thường ( đặc_biệt khi so với giá_cả ) và ko có gì đặc_sắc cả .</td>\n",
              "      <td>0</td>\n",
              "    </tr>\n",
              "    <tr>\n",
              "      <th>4</th>\n",
              "      <td>f92694b0</td>\n",
              "      <td>Khi mình order , đặt bánh thì nhận được sự tiếp_đãi , tư_vấn và nói_chuyện rất gần_gũi , rất nhiệt_tình .\\r\\nBánh thì rất tuyệt , nhân béo , rau_câu không dùng phẩm . Sau_này có dịp sinh_nhật , mình sẽ order mẫu lớn .\\r\\nChúc các bạn làm_ăn phát_đạt !</td>\n",
              "      <td>1</td>\n",
              "    </tr>\n",
              "  </tbody>\n",
              "</table>\n",
              "</div>\n",
              "      <button class=\"colab-df-convert\" onclick=\"convertToInteractive('df-b4d00085-e0c3-4b2d-a152-db65db57065f')\"\n",
              "              title=\"Convert this dataframe to an interactive table.\"\n",
              "              style=\"display:none;\">\n",
              "        \n",
              "  <svg xmlns=\"http://www.w3.org/2000/svg\" height=\"24px\"viewBox=\"0 0 24 24\"\n",
              "       width=\"24px\">\n",
              "    <path d=\"M0 0h24v24H0V0z\" fill=\"none\"/>\n",
              "    <path d=\"M18.56 5.44l.94 2.06.94-2.06 2.06-.94-2.06-.94-.94-2.06-.94 2.06-2.06.94zm-11 1L8.5 8.5l.94-2.06 2.06-.94-2.06-.94L8.5 2.5l-.94 2.06-2.06.94zm10 10l.94 2.06.94-2.06 2.06-.94-2.06-.94-.94-2.06-.94 2.06-2.06.94z\"/><path d=\"M17.41 7.96l-1.37-1.37c-.4-.4-.92-.59-1.43-.59-.52 0-1.04.2-1.43.59L10.3 9.45l-7.72 7.72c-.78.78-.78 2.05 0 2.83L4 21.41c.39.39.9.59 1.41.59.51 0 1.02-.2 1.41-.59l7.78-7.78 2.81-2.81c.8-.78.8-2.07 0-2.86zM5.41 20L4 18.59l7.72-7.72 1.47 1.35L5.41 20z\"/>\n",
              "  </svg>\n",
              "      </button>\n",
              "      \n",
              "  <style>\n",
              "    .colab-df-container {\n",
              "      display:flex;\n",
              "      flex-wrap:wrap;\n",
              "      gap: 12px;\n",
              "    }\n",
              "\n",
              "    .colab-df-convert {\n",
              "      background-color: #E8F0FE;\n",
              "      border: none;\n",
              "      border-radius: 50%;\n",
              "      cursor: pointer;\n",
              "      display: none;\n",
              "      fill: #1967D2;\n",
              "      height: 32px;\n",
              "      padding: 0 0 0 0;\n",
              "      width: 32px;\n",
              "    }\n",
              "\n",
              "    .colab-df-convert:hover {\n",
              "      background-color: #E2EBFA;\n",
              "      box-shadow: 0px 1px 2px rgba(60, 64, 67, 0.3), 0px 1px 3px 1px rgba(60, 64, 67, 0.15);\n",
              "      fill: #174EA6;\n",
              "    }\n",
              "\n",
              "    [theme=dark] .colab-df-convert {\n",
              "      background-color: #3B4455;\n",
              "      fill: #D2E3FC;\n",
              "    }\n",
              "\n",
              "    [theme=dark] .colab-df-convert:hover {\n",
              "      background-color: #434B5C;\n",
              "      box-shadow: 0px 1px 3px 1px rgba(0, 0, 0, 0.15);\n",
              "      filter: drop-shadow(0px 1px 2px rgba(0, 0, 0, 0.3));\n",
              "      fill: #FFFFFF;\n",
              "    }\n",
              "  </style>\n",
              "\n",
              "      <script>\n",
              "        const buttonEl =\n",
              "          document.querySelector('#df-b4d00085-e0c3-4b2d-a152-db65db57065f button.colab-df-convert');\n",
              "        buttonEl.style.display =\n",
              "          google.colab.kernel.accessAllowed ? 'block' : 'none';\n",
              "\n",
              "        async function convertToInteractive(key) {\n",
              "          const element = document.querySelector('#df-b4d00085-e0c3-4b2d-a152-db65db57065f');\n",
              "          const dataTable =\n",
              "            await google.colab.kernel.invokeFunction('convertToInteractive',\n",
              "                                                     [key], {});\n",
              "          if (!dataTable) return;\n",
              "\n",
              "          const docLinkHtml = 'Like what you see? Visit the ' +\n",
              "            '<a target=\"_blank\" href=https://colab.research.google.com/notebooks/data_table.ipynb>data table notebook</a>'\n",
              "            + ' to learn more about interactive tables.';\n",
              "          element.innerHTML = '';\n",
              "          dataTable['output_type'] = 'display_data';\n",
              "          await google.colab.output.renderOutput(dataTable, element);\n",
              "          const docLink = document.createElement('div');\n",
              "          docLink.innerHTML = docLinkHtml;\n",
              "          element.appendChild(docLink);\n",
              "        }\n",
              "      </script>\n",
              "    </div>\n",
              "  </div>\n",
              "  "
            ],
            "text/plain": [
              "         id  \\\n",
              "0  dee6dfc5   \n",
              "1  800813f5   \n",
              "2  6553e47f   \n",
              "3  b45a1ff1   \n",
              "4  f92694b0   \n",
              "\n",
              "                                                                                                                                                                                                                                                                                                                                                                                                                                                text  \\\n",
              "0  Đến quán 2 lần thôi , rất là thích !\\r\\nQuán tuy nằm trong hẻm nhưng rất dễ tìm , quán rộng_rãi thoáng mát sạch_sẽ .\\r\\nNhân_viên phục_vụ nhiệt_tình , siêu dễ_thương .\\r\\nThực_đơn phong_phú đa_dạng , giá siêu rẻ .\\r\\nThức_ăn nêm nếm hợp_khẩu vị , ngon_miệng .\\r\\nDesert ngọt vừa , không quá ngấy , rất ngon .\\r\\nTrà sữa , uyên_ương thơm và đúng vị mình đã từng uống ở HongKong .\\r\\nNói_chung điểm 10 cho chất_lượng , thích quán lắm !   \n",
              "1                                                                                                                                                                                                                                                                                                                  Đến quán vào tối chủ_nhật . Có band hát . Khá ổn . Tuy_nhiên không_gian tầng 1 hơi hẹp . Ngồi cả ra vỉa_hè . Đồ uống ko ngon lămz   \n",
              "2                                                                                                                                                                                                                                                                                               Phục_vụ lâu quá mặc_dù khách rất vắng .\\r\\nĐợi gần 15p mới mang được ly cà_phê ra . Ông này chỉ khéo quảng_bá chứ với mình chắc không quay lại_nữa .   \n",
              "3                                                                                                                                                                                                                                                                                                     Ko gian bé_tí , quán chật_chội , đông người nên phục_vụ chưa tốt . Đồ uống bình_thường ( đặc_biệt khi so với giá_cả ) và ko có gì đặc_sắc cả .   \n",
              "4                                                                                                                                                                                        Khi mình order , đặt bánh thì nhận được sự tiếp_đãi , tư_vấn và nói_chuyện rất gần_gũi , rất nhiệt_tình .\\r\\nBánh thì rất tuyệt , nhân béo , rau_câu không dùng phẩm . Sau_này có dịp sinh_nhật , mình sẽ order mẫu lớn .\\r\\nChúc các bạn làm_ăn phát_đạt !   \n",
              "\n",
              "   class  \n",
              "0      1  \n",
              "1      0  \n",
              "2      0  \n",
              "3      0  \n",
              "4      1  "
            ]
          },
          "execution_count": 10,
          "metadata": {},
          "output_type": "execute_result"
        }
      ],
      "source": [
        "pd.options.display.max_colwidth = 1000\n",
        "train_df = pd.read_csv(os.path.join(data_dir, 'train.csv'))\n",
        "train_df.head()"
      ]
    },
    {
      "cell_type": "code",
      "execution_count": 11,
      "metadata": {
        "colab": {
          "base_uri": "https://localhost:8080/"
        },
        "id": "2vk9EcnIOP41",
        "outputId": "0074b707-441a-4418-d445-31c65a3ae2e7"
      },
      "outputs": [
        {
          "name": "stdout",
          "output_type": "stream",
          "text": [
            "number of positive: 13518\n",
            "number of negative: 13482\n"
          ]
        }
      ],
      "source": [
        "print('number of positive:', np.sum(train_df['class']== 1))\n",
        "print('number of negative:', np.sum(train_df['class']== 0))"
      ]
    },
    {
      "attachments": {},
      "cell_type": "markdown",
      "metadata": {
        "id": "qx3z-yICOkDB"
      },
      "source": [
        "データには3つの列が含まれています：`id`、`text`、`class`。具体的には：\n",
        "\n",
        "- `id`：データのID\n",
        "- `text`：前処理されたテキストデータで、単語と句読点が統合されています。\n",
        "- `class`：データのラベルで、1はポジティブ、0はネガティブです。"
      ]
    },
    {
      "cell_type": "code",
      "execution_count": 12,
      "metadata": {
        "colab": {
          "base_uri": "https://localhost:8080/"
        },
        "id": "kKPiftuSO5cI",
        "outputId": "cfb3f982-e766-457c-9fa6-e2705f17718e"
      },
      "outputs": [
        {
          "name": "stdout",
          "output_type": "stream",
          "text": [
            "Sample positive comment: \n",
            "Không_gian quán thoáng_đãng . Mình thích nhất ở đây là cách decor của quán . Tạo cảm_giác rất thân_thiện . Buổi tối có piano nhưng không hề tính phí phụ_thu . Mấy em mèo thì dễ_thương khỏi chê . Nhân_viên nhiệt_tình với khách . Mấy món ăn_ở đây ăn rất ngon . Nhất_là bánh toast , tuy mình đã ăn toast ở nhiều nơi nhưng bánh ở đây ngon hơn rất nhiều những nơi khác , bánh rất giòn và ngon . Soda được để trong bình nhìn rất dễ_thương . Soda có rất nhiều vị cho bạn lựa_chọn từ_vị trái_cây cho_đến vị bánh applepie hay blu ocean , tamarind , ... . Giá_cả cũng không phải là vấn_đề . Tuy so với những quán tự_phục_vụ đang nổi khác thì hơi cao nhưng tính thêm phí phục_vụ vô_cùng nhiệt_tình của các bạn nhân_viên thì giá_như vậy_là hoàn_toàn hợp_lí . Mọi thứ với mình đều rất ok . Sẽ quay lại quán nhiều lần nữa . Yêu qá mất rồi . < 3 < 3 ! ! !\n",
            "\n",
            " Sample negative comment: \n",
            "Nhân_viên khá thân_thiện , phục_vụ hơi chậm .\r\n",
            "Thức_ăn nêm nếm được .\r\n",
            "Giá hơi đắt so với chất_lượng .\r\n",
            "Giữ xe khá bất_tiện .\n"
          ]
        }
      ],
      "source": [
        "print('Sample positive comment: ')\n",
        "sample_positive = train_df[train_df['class'] == 1].sample(1)\n",
        "print(sample_positive.loc[sample_positive.index[0], 'text'])\n",
        "\n",
        "print('\\n Sample negative comment: ')\n",
        "sample_negative = train_df[train_df['class'] == 0].sample(1)\n",
        "print(sample_negative.loc[sample_negative.index[0], 'text'])\n"
      ]
    },
    {
      "cell_type": "code",
      "execution_count": 13,
      "metadata": {
        "colab": {
          "base_uri": "https://localhost:8080/",
          "height": 632
        },
        "id": "aQWxDutrPRSn",
        "outputId": "192b6cc1-4281-4d62-9597-bf4814bdb400"
      },
      "outputs": [
        {
          "data": {
            "text/html": [
              "\n",
              "  <div id=\"df-4de0615a-a28b-437e-be0c-2867676deee8\">\n",
              "    <div class=\"colab-df-container\">\n",
              "      <div>\n",
              "<style scoped>\n",
              "    .dataframe tbody tr th:only-of-type {\n",
              "        vertical-align: middle;\n",
              "    }\n",
              "\n",
              "    .dataframe tbody tr th {\n",
              "        vertical-align: top;\n",
              "    }\n",
              "\n",
              "    .dataframe thead th {\n",
              "        text-align: right;\n",
              "    }\n",
              "</style>\n",
              "<table border=\"1\" class=\"dataframe\">\n",
              "  <thead>\n",
              "    <tr style=\"text-align: right;\">\n",
              "      <th></th>\n",
              "      <th>id</th>\n",
              "      <th>text</th>\n",
              "    </tr>\n",
              "  </thead>\n",
              "  <tbody>\n",
              "    <tr>\n",
              "      <th>0</th>\n",
              "      <td>2017ec48</td>\n",
              "      <td>Mình kêu 6 loại khác nhau , mỗi laoij 1 cục mà ăn cái nào cũng như nhau , cứ như đang ăn 1 loại vậy . Cuối cùng ngon nhất lại là cục khoai môn chiên . Mấy loại há cảo xíu mại bánh xẹp ăn ngán cực kỳ , mà làm cục to tổ bố để ép khách mua với cái giá 19k . Ko hiểu ăn được cái gì ở đây mà có người khen ngon</td>\n",
              "    </tr>\n",
              "    <tr>\n",
              "      <th>1</th>\n",
              "      <td>e3f0ea32</td>\n",
              "      <td>Ăn ở đây từ trc khi chủ nhà xây nhà mới .   chất lg ko đổi còn giá có tăng từ từ 1-2k : ) )\\r\\nphần mìh kiu là 2 thường 2 trứng 22k - hơi no tẹo và CỰC KÌ NGONNN &gt;   &lt;\\r\\nđi vạn kiếp rẽ vào hẻm có biển hoa đàm ni tự và đi chừng 50m là tới , vì hẻm 2m nên để xe bên ngoài dọc theo 2 dãy nhà , chú chủ sẽ sắp xếp xe lại nhưng mình khuyến khích các b mua về : ) )   ăn tại chỗ thì bàn ghế sạch sẽ , ly uống nước là loại dùng 1 lần - &gt; kết điểm này ! ! !\\r\\nphục vụ của 2 vk ck chủ thì miễn bàn , cực kì thân thiện . dạo này có 1 cô nữa phụ bán nhưng ko dc lanh lẹ lắm .\\r\\n* quán chỉ bán buổi sáng tới chừng 9-10g là hết . lâu lâu thì 11g .\\r\\n* hành phi tự làm ngon và giòn lắm nhé ^ ^ còn bánh cuốn thì gọi tới đâu làm tới đó , ko qá lâu và bánh còn ấm .</td>\n",
              "    </tr>\n",
              "    <tr>\n",
              "      <th>2</th>\n",
              "      <td>8743eae3</td>\n",
              "      <td>Các bạn đến ăn ngay và luôn đi nhé ! !\\r\\nMình từ trước giờ chỉ Súp cua Súp óc heo làm tới , từ khi tới quán , mình đã biết thêm nhiều loại khác ( rong biển , hến , thập cẩm , . . mới đây còn có thêm súp còi điệp ) . Không chỉ có súp không âu nha , nhìn menu mà món nào cũng muôn ăn ... Ah , bánh Flan trà xanh cực ngon luôn , món khoái khẩu của mình ấy ... Mình không có thói quen chộp hình thức ăn trước khi ăn , nên các bạn đến ngay SÚP SÀI GÒN Q4 và cảm nhận nhé ^ ^</td>\n",
              "    </tr>\n",
              "    <tr>\n",
              "      <th>3</th>\n",
              "      <td>7b554248</td>\n",
              "      <td>Đây gần như quán ruột của mình luôn : ) ) đây đồ ăn ngon , nhân viên dễ thương , mấy anh giữ xe phía ngoài cũng dễ thương ko kém : ) ) giá cả thì hợp lý khỏi bàn luôn rồi . Đây là 3 món ruột , lần nào đến cũng phải ăn : ) ) ) hahaaa</td>\n",
              "    </tr>\n",
              "    <tr>\n",
              "      <th>4</th>\n",
              "      <td>bedd1403</td>\n",
              "      <td>Tiếc là 25 năm sống ở Tây Ninh thì đây là lần đầu tiên mình ghé .\\r\\nThức ăn rất Việt Nam , ngon và vị tuyệt vời , giá hợp lý .\\r\\nKhuyết điểm :\\r\\nGiờ cơm trưa quán đắc nên đợi rất lâu ,\\r\\nMình quên giử số điện thoại để đặt chổ và thức ăn trước , a e ai ghé thì thêm vào giúp .\\r\\nHơi nóng , và chắc vì quán đông quá nên phần mỷ quan có điễm trừ ,</td>\n",
              "    </tr>\n",
              "  </tbody>\n",
              "</table>\n",
              "</div>\n",
              "      <button class=\"colab-df-convert\" onclick=\"convertToInteractive('df-4de0615a-a28b-437e-be0c-2867676deee8')\"\n",
              "              title=\"Convert this dataframe to an interactive table.\"\n",
              "              style=\"display:none;\">\n",
              "        \n",
              "  <svg xmlns=\"http://www.w3.org/2000/svg\" height=\"24px\"viewBox=\"0 0 24 24\"\n",
              "       width=\"24px\">\n",
              "    <path d=\"M0 0h24v24H0V0z\" fill=\"none\"/>\n",
              "    <path d=\"M18.56 5.44l.94 2.06.94-2.06 2.06-.94-2.06-.94-.94-2.06-.94 2.06-2.06.94zm-11 1L8.5 8.5l.94-2.06 2.06-.94-2.06-.94L8.5 2.5l-.94 2.06-2.06.94zm10 10l.94 2.06.94-2.06 2.06-.94-2.06-.94-.94-2.06-.94 2.06-2.06.94z\"/><path d=\"M17.41 7.96l-1.37-1.37c-.4-.4-.92-.59-1.43-.59-.52 0-1.04.2-1.43.59L10.3 9.45l-7.72 7.72c-.78.78-.78 2.05 0 2.83L4 21.41c.39.39.9.59 1.41.59.51 0 1.02-.2 1.41-.59l7.78-7.78 2.81-2.81c.8-.78.8-2.07 0-2.86zM5.41 20L4 18.59l7.72-7.72 1.47 1.35L5.41 20z\"/>\n",
              "  </svg>\n",
              "      </button>\n",
              "      \n",
              "  <style>\n",
              "    .colab-df-container {\n",
              "      display:flex;\n",
              "      flex-wrap:wrap;\n",
              "      gap: 12px;\n",
              "    }\n",
              "\n",
              "    .colab-df-convert {\n",
              "      background-color: #E8F0FE;\n",
              "      border: none;\n",
              "      border-radius: 50%;\n",
              "      cursor: pointer;\n",
              "      display: none;\n",
              "      fill: #1967D2;\n",
              "      height: 32px;\n",
              "      padding: 0 0 0 0;\n",
              "      width: 32px;\n",
              "    }\n",
              "\n",
              "    .colab-df-convert:hover {\n",
              "      background-color: #E2EBFA;\n",
              "      box-shadow: 0px 1px 2px rgba(60, 64, 67, 0.3), 0px 1px 3px 1px rgba(60, 64, 67, 0.15);\n",
              "      fill: #174EA6;\n",
              "    }\n",
              "\n",
              "    [theme=dark] .colab-df-convert {\n",
              "      background-color: #3B4455;\n",
              "      fill: #D2E3FC;\n",
              "    }\n",
              "\n",
              "    [theme=dark] .colab-df-convert:hover {\n",
              "      background-color: #434B5C;\n",
              "      box-shadow: 0px 1px 3px 1px rgba(0, 0, 0, 0.15);\n",
              "      filter: drop-shadow(0px 1px 2px rgba(0, 0, 0, 0.3));\n",
              "      fill: #FFFFFF;\n",
              "    }\n",
              "  </style>\n",
              "\n",
              "      <script>\n",
              "        const buttonEl =\n",
              "          document.querySelector('#df-4de0615a-a28b-437e-be0c-2867676deee8 button.colab-df-convert');\n",
              "        buttonEl.style.display =\n",
              "          google.colab.kernel.accessAllowed ? 'block' : 'none';\n",
              "\n",
              "        async function convertToInteractive(key) {\n",
              "          const element = document.querySelector('#df-4de0615a-a28b-437e-be0c-2867676deee8');\n",
              "          const dataTable =\n",
              "            await google.colab.kernel.invokeFunction('convertToInteractive',\n",
              "                                                     [key], {});\n",
              "          if (!dataTable) return;\n",
              "\n",
              "          const docLinkHtml = 'Like what you see? Visit the ' +\n",
              "            '<a target=\"_blank\" href=https://colab.research.google.com/notebooks/data_table.ipynb>data table notebook</a>'\n",
              "            + ' to learn more about interactive tables.';\n",
              "          element.innerHTML = '';\n",
              "          dataTable['output_type'] = 'display_data';\n",
              "          await google.colab.output.renderOutput(dataTable, element);\n",
              "          const docLink = document.createElement('div');\n",
              "          docLink.innerHTML = docLinkHtml;\n",
              "          element.appendChild(docLink);\n",
              "        }\n",
              "      </script>\n",
              "    </div>\n",
              "  </div>\n",
              "  "
            ],
            "text/plain": [
              "         id  \\\n",
              "0  2017ec48   \n",
              "1  e3f0ea32   \n",
              "2  8743eae3   \n",
              "3  7b554248   \n",
              "4  bedd1403   \n",
              "\n",
              "                                                                                                                                                                                                                                                                                                                                                                                                                                                                                                                                                                                                                                                                                                                                                                                text  \n",
              "0                                                                                                                                                                                                                                                                                                                                                                                                                                                                  Mình kêu 6 loại khác nhau , mỗi laoij 1 cục mà ăn cái nào cũng như nhau , cứ như đang ăn 1 loại vậy . Cuối cùng ngon nhất lại là cục khoai môn chiên . Mấy loại há cảo xíu mại bánh xẹp ăn ngán cực kỳ , mà làm cục to tổ bố để ép khách mua với cái giá 19k . Ko hiểu ăn được cái gì ở đây mà có người khen ngon  \n",
              "1  Ăn ở đây từ trc khi chủ nhà xây nhà mới .   chất lg ko đổi còn giá có tăng từ từ 1-2k : ) )\\r\\nphần mìh kiu là 2 thường 2 trứng 22k - hơi no tẹo và CỰC KÌ NGONNN >   <\\r\\nđi vạn kiếp rẽ vào hẻm có biển hoa đàm ni tự và đi chừng 50m là tới , vì hẻm 2m nên để xe bên ngoài dọc theo 2 dãy nhà , chú chủ sẽ sắp xếp xe lại nhưng mình khuyến khích các b mua về : ) )   ăn tại chỗ thì bàn ghế sạch sẽ , ly uống nước là loại dùng 1 lần - > kết điểm này ! ! !\\r\\nphục vụ của 2 vk ck chủ thì miễn bàn , cực kì thân thiện . dạo này có 1 cô nữa phụ bán nhưng ko dc lanh lẹ lắm .\\r\\n* quán chỉ bán buổi sáng tới chừng 9-10g là hết . lâu lâu thì 11g .\\r\\n* hành phi tự làm ngon và giòn lắm nhé ^ ^ còn bánh cuốn thì gọi tới đâu làm tới đó , ko qá lâu và bánh còn ấm .  \n",
              "2                                                                                                                                                                                                                                                                                             Các bạn đến ăn ngay và luôn đi nhé ! !\\r\\nMình từ trước giờ chỉ Súp cua Súp óc heo làm tới , từ khi tới quán , mình đã biết thêm nhiều loại khác ( rong biển , hến , thập cẩm , . . mới đây còn có thêm súp còi điệp ) . Không chỉ có súp không âu nha , nhìn menu mà món nào cũng muôn ăn ... Ah , bánh Flan trà xanh cực ngon luôn , món khoái khẩu của mình ấy ... Mình không có thói quen chộp hình thức ăn trước khi ăn , nên các bạn đến ngay SÚP SÀI GÒN Q4 và cảm nhận nhé ^ ^  \n",
              "3                                                                                                                                                                                                                                                                                                                                                                                                                                                                                                                                           Đây gần như quán ruột của mình luôn : ) ) đây đồ ăn ngon , nhân viên dễ thương , mấy anh giữ xe phía ngoài cũng dễ thương ko kém : ) ) giá cả thì hợp lý khỏi bàn luôn rồi . Đây là 3 món ruột , lần nào đến cũng phải ăn : ) ) ) hahaaa  \n",
              "4                                                                                                                                                                                                                                                                                                                                                                                                                      Tiếc là 25 năm sống ở Tây Ninh thì đây là lần đầu tiên mình ghé .\\r\\nThức ăn rất Việt Nam , ngon và vị tuyệt vời , giá hợp lý .\\r\\nKhuyết điểm :\\r\\nGiờ cơm trưa quán đắc nên đợi rất lâu ,\\r\\nMình quên giử số điện thoại để đặt chổ và thức ăn trước , a e ai ghé thì thêm vào giúp .\\r\\nHơi nóng , và chắc vì quán đông quá nên phần mỷ quan có điễm trừ ,  "
            ]
          },
          "execution_count": 13,
          "metadata": {},
          "output_type": "execute_result"
        }
      ],
      "source": [
        "# load data from test.csv\n",
        "test_df = pd.read_csv(os.path.join(data_dir, 'test.csv'))\n",
        "test_df.head()"
      ]
    },
    {
      "cell_type": "code",
      "execution_count": 14,
      "metadata": {
        "colab": {
          "base_uri": "https://localhost:8080/"
        },
        "id": "jVNGu2i8PfdZ",
        "outputId": "c2a3e602-2885-4e0f-93ed-fcf7b8c63cbd"
      },
      "outputs": [
        {
          "data": {
            "text/plain": [
              "27000"
            ]
          },
          "execution_count": 14,
          "metadata": {},
          "output_type": "execute_result"
        }
      ],
      "source": [
        "len(train_df)     #number of test samples"
      ]
    },
    {
      "attachments": {},
      "cell_type": "markdown",
      "metadata": {
        "id": "coN9J-7rPoaz"
      },
      "source": [
        "### **単語埋め込みのダウンロード**\n",
        "\n",
        "以下のコードを使用して、単語埋め込み（ベクトル表現）のデータをダウンロードします。\n"
      ]
    },
    {
      "cell_type": "code",
      "execution_count": 15,
      "metadata": {
        "colab": {
          "base_uri": "https://localhost:8080/"
        },
        "id": "-fNXGLnuQLRf",
        "outputId": "bc235b02-b844-4b58-8fd6-597594df01cb"
      },
      "outputs": [
        {
          "name": "stdout",
          "output_type": "stream",
          "text": [
            "prunned vocabulary loaded\n",
            "Word embedding matrix loaded!\n"
          ]
        }
      ],
      "source": [
        "word_list = np.load(os.path.join(data_dir, 'words_list.npy'))\n",
        "print(\"prunned vocabulary loaded\")\n",
        "words_list = word_list.tolist()\n",
        "word_vectors = np.load(os.path.join(data_dir, 'word_vectors.npy'))\n",
        "word_vectors = np.float32(word_vectors)\n",
        "print ('Word embedding matrix loaded!')"
      ]
    },
    {
      "cell_type": "code",
      "execution_count": 16,
      "metadata": {
        "colab": {
          "base_uri": "https://localhost:8080/"
        },
        "id": "HMptZXN5REyQ",
        "outputId": "d32409b3-9bcf-4273-e3d1-e99617121435"
      },
      "outputs": [
        {
          "name": "stdout",
          "output_type": "stream",
          "text": [
            "Size of the vocabulary:  19899\n",
            "Size of the word embedding matrix:  (19899, 300)\n"
          ]
        }
      ],
      "source": [
        "#データが正しくアップロードされたかどうかを確認する\n",
        "print('Size of the vocabulary: ', len(words_list))\n",
        "print('Size of the word embedding matrix: ', word_vectors.shape)"
      ]
    },
    {
      "cell_type": "code",
      "execution_count": 17,
      "metadata": {
        "colab": {
          "base_uri": "https://localhost:8080/"
        },
        "id": "xrOl1SjKRZun",
        "outputId": "9ef8b2d6-fd5c-4011-9356-f641b87da6cd"
      },
      "outputs": [
        {
          "name": "stdout",
          "output_type": "stream",
          "text": [
            "Index 0 belongs to the words ăm\n",
            "vector representation: [ 0.1882 -0.292   0.0072 ...  0.5919 -0.3094 -0.1228] \t size (300,)\n",
            "\n",
            "Index 1 belongs to the words sửng_sốt\n",
            "vector representation: [-0.0535  0.0028  0.0876 ... -0.0419  0.0083 -0.0112] \t size (300,)\n",
            "\n",
            "Index 2 belongs to the words có_học\n",
            "vector representation: [-0.0165 -0.0346  0.0616 ... -0.0876  0.0095 -0.0098] \t size (300,)\n",
            "\n",
            "Index 3 belongs to the words việc_làm\n",
            "vector representation: [ 0.0024  0.0056  0.1076 ... -0.0454 -0.0175 -0.0269] \t size (300,)\n",
            "\n",
            "Index 4 belongs to the words vanila\n",
            "vector representation: [ 0.0722 -0.0154  0.0271 ... -0.0013  0.033   0.054 ] \t size (300,)\n",
            "\n"
          ]
        }
      ],
      "source": [
        "# 単語の単語ベクトルを取得する\n",
        "np.set_printoptions(threshold=5)\n",
        "for i in range(5):\n",
        "  print('Index', i, 'belongs to the words', words_list[i])\n",
        "  print('vector representation:', word_vectors[i], '\\t size', word_vectors[i].shape)\n",
        "  print()\n"
      ]
    },
    {
      "cell_type": "code",
      "execution_count": 18,
      "metadata": {
        "id": "V58qlVVMTRYJ"
      },
      "outputs": [],
      "source": [
        "# vector retrival\n",
        "word2idx = {w:i for i,w in enumerate(words_list)}\n",
        "# print(word2idx)\n",
        "\n",
        "word = 'dở'\n",
        "word_idx = words_list.index(word)\n",
        "word_vec = word_vectors[word_idx]\n"
      ]
    },
    {
      "attachments": {},
      "cell_type": "markdown",
      "metadata": {
        "id": "nVU0zctzVHVf"
      },
      "source": [
        "### **テキストの前処理**\n"
      ]
    },
    {
      "cell_type": "code",
      "execution_count": 19,
      "metadata": {
        "id": "3E6_l09mVGXA"
      },
      "outputs": [],
      "source": [
        "import re\n",
        "\n",
        "strip_special_chars = re.compile(\"[^\\w0-9 ]+\")\n",
        "\n",
        "def clean_sentences(string):\n",
        "  string = string.lower().replace(\"<br />\", \" \")\n",
        "  return re.sub(strip_special_chars, \"\", string.lower())"
      ]
    },
    {
      "attachments": {},
      "cell_type": "markdown",
      "metadata": {
        "id": "2fzoqScLV8zv"
      },
      "source": [
        "## **キストの単語埋め込み行列への変換**"
      ]
    },
    {
      "cell_type": "code",
      "execution_count": 20,
      "metadata": {
        "colab": {
          "base_uri": "https://localhost:8080/"
        },
        "id": "CQXKN857WT04",
        "outputId": "25e81d2f-49da-4253-dc20-796f598892f2"
      },
      "outputs": [
        {
          "name": "stdout",
          "output_type": "stream",
          "text": [
            "món ---> 119\n",
            "này ---> 8136\n",
            "ăn ---> 4884\n",
            "hoài ---> 18791\n",
            "không ---> 16614\n",
            "biết ---> 15951\n",
            "chán ---> 3371\n",
            "[ 119 8136 4884 ...    0    0    0]\n"
          ]
        }
      ],
      "source": [
        "\n",
        "def get_sentence_indices(sentence, max_seq_length, _word_list):\n",
        "    \"\"\"\n",
        "    The function is used to get indices for each word in the sentence\n",
        "    Parameter\n",
        "    -----------\n",
        "    sentence: str\n",
        "        The sentence to process.\n",
        "    max_seq_length: int\n",
        "        The maximum limit of words in a sentence\n",
        "    _word_list: list\n",
        "        A local copy of the word_list passed into the function\n",
        "    \"\"\"\n",
        "\n",
        "    indices = np.zeros((max_seq_length), dtype='int32')\n",
        "    words = [word.lower() for word in sentence.split()]\n",
        "\n",
        "    unk_idx = word2idx['UNK']\n",
        "\n",
        "    for idx, word in enumerate(words):\n",
        "        if idx > max_seq_length - 1:\n",
        "            break\n",
        "        elif word in word2idx:\n",
        "            indices[idx] = word2idx[word]\n",
        "        else:\n",
        "            indices[idx] = unk_idx\n",
        "    return indices\n",
        "\n",
        "# test\n",
        "sentence = \"Món này ăn hoài không biết chán\"\n",
        "sentence = clean_sentences(sentence)\n",
        "sentence_indices = get_sentence_indices(sentence, max_seq_length=10, _word_list=words_list)\n",
        "for i in range(len(sentence.split())):\n",
        "    print(sentence.split()[i], '--->', sentence_indices[i])\n",
        "\n",
        "print(sentence_indices)\n"
      ]
    },
    {
      "cell_type": "code",
      "execution_count": 21,
      "metadata": {
        "colab": {
          "base_uri": "https://localhost:8080/"
        },
        "id": "tU608HmgYkAD",
        "outputId": "301a7922-88e9-45f3-c318-a38174b02c73"
      },
      "outputs": [
        {
          "name": "stdout",
          "output_type": "stream",
          "text": [
            "Vector representation of sentence:\n",
            "tf.Tensor(\n",
            "[[-0.1823 -0.0638  0.2376 ...  0.1462 -0.1092  0.0137]\n",
            " [ 0.027  -0.0542  0.1437 ... -0.0913  0.0114  0.0132]\n",
            " [ 0.021   0.0102  0.0096 ...  0.411  -0.2519  0.0151]\n",
            " ...\n",
            " [ 0.1882 -0.292   0.0072 ...  0.5919 -0.3094 -0.1228]\n",
            " [ 0.1882 -0.292   0.0072 ...  0.5919 -0.3094 -0.1228]\n",
            " [ 0.1882 -0.292   0.0072 ...  0.5919 -0.3094 -0.1228]], shape=(10, 300), dtype=float32)\n"
          ]
        }
      ],
      "source": [
        "print('Vector representation of sentence:')\n",
        "print(tf.nn.embedding_lookup(word_vectors,sentence_indices))"
      ]
    },
    {
      "attachments": {},
      "cell_type": "markdown",
      "metadata": {
        "id": "2otCPszJZSTJ"
      },
      "source": [
        "### **トレーニングデータセット調査**"
      ]
    },
    {
      "cell_type": "code",
      "execution_count": 22,
      "metadata": {
        "colab": {
          "base_uri": "https://localhost:8080/"
        },
        "id": "AbqRPHbBZRvP",
        "outputId": "79c63700-7b27-4ea8-ecd2-74621879ba32"
      },
      "outputs": [
        {
          "name": "stdout",
          "output_type": "stream",
          "text": [
            "The total number of samples is 27000\n",
            "The total number of words in the files is 2252760\n",
            "The average number of words in the files is 83.43555555555555\n"
          ]
        }
      ],
      "source": [
        "num_words = [len(clean_sentences(x).split()) for x in list(train_df['text'])]\n",
        "print('The total number of samples is', len(train_df))\n",
        "print('The total number of words in the files is', sum(num_words))\n",
        "print('The average number of words in the files is', sum(num_words)/len(num_words))"
      ]
    },
    {
      "cell_type": "code",
      "execution_count": 23,
      "metadata": {
        "colab": {
          "base_uri": "https://localhost:8080/",
          "height": 456
        },
        "id": "pmsDxPsfZaf1",
        "outputId": "095be0e2-fba1-4dba-fd2f-f3779588344e"
      },
      "outputs": [
        {
          "data": {
            "image/png": "[encoded data removed]",
            "text/plain": [
              "<Figure size 640x480 with 1 Axes>"
            ]
          },
          "metadata": {},
          "output_type": "display_data"
        }
      ],
      "source": [
        "import matplotlib.pyplot as plt\n",
        "%matplotlib inline\n",
        "plt.hist(num_words, 100)\n",
        "plt.xlabel('Số từ trong câu')\n",
        "plt.ylabel('Tần số')\n",
        "plt.axis([0, 600, 0, 5000])\n",
        "plt.show()"
      ]
    },
    {
      "cell_type": "code",
      "execution_count": 24,
      "metadata": {
        "id": "tg7t3rcjZf1n"
      },
      "outputs": [],
      "source": [
        "MAX_SEQ_LENGTH = 200"
      ]
    },
    {
      "attachments": {},
      "cell_type": "markdown",
      "metadata": {
        "id": "OSbuOOblZ5AY"
      },
      "source": [
        "### テキストデータを行列に変換する"
      ]
    },
    {
      "cell_type": "code",
      "execution_count": 25,
      "metadata": {
        "colab": {
          "base_uri": "https://localhost:8080/"
        },
        "id": "JtHmuVgDZve5",
        "outputId": "121ca387-c9aa-4a4f-a0c7-4259bc4cc626"
      },
      "outputs": [
        {
          "name": "stdout",
          "output_type": "stream",
          "text": [
            "Converting train_df...\n"
          ]
        },
        {
          "name": "stderr",
          "output_type": "stream",
          "text": [
            "100%|██████████| 27000/27000 [00:02<00:00, 11019.06it/s]\n"
          ]
        }
      ],
      "source": [
        "def text2ids(df, max_length, _word_list):\n",
        "\n",
        "    ids = np.zeros((len(df), max_length), dtype='int32')\n",
        "    for idx, text in enumerate(tqdm(df['text'])):\n",
        "        ids[idx,:] = get_sentence_indices(clean_sentences(text), max_length, _word_list)\n",
        "    return ids\n",
        "\n",
        "print(\"Converting train_df...\")\n",
        "train_ids = text2ids(train_df, MAX_SEQ_LENGTH, words_list)\n",
        "np.save('train_ids.npy', train_ids)\n"
      ]
    },
    {
      "cell_type": "code",
      "execution_count": 26,
      "metadata": {
        "id": "8-rTyOsLaHKv"
      },
      "outputs": [],
      "source": [
        "train_ids = np.load('train_ids.npy')"
      ]
    },
    {
      "cell_type": "code",
      "execution_count": 27,
      "metadata": {
        "colab": {
          "base_uri": "https://localhost:8080/"
        },
        "id": "JYGU2Yr6aLAX",
        "outputId": "43dadf1c-369e-4e6d-b1eb-193c7382ba48"
      },
      "outputs": [
        {
          "name": "stdout",
          "output_type": "stream",
          "text": [
            "Word indices of the first review: \n",
            "[10774 11975  4826 ...     0     0     0]\n"
          ]
        }
      ],
      "source": [
        "print('Word indices of the first review: ')\n",
        "print(train_ids[0])"
      ]
    },
    {
      "attachments": {},
      "cell_type": "markdown",
      "metadata": {
        "id": "LD_vXrdPaY6r"
      },
      "source": [
        "\n",
        "## **データのトレーニング、検証、テストセットへの分割**\n",
        "train:validation:test = 0.8 :0.1 :0.1\n"
      ]
    },
    {
      "cell_type": "code",
      "execution_count": 28,
      "metadata": {
        "id": "X4_CgzWYarRN"
      },
      "outputs": [],
      "source": [
        "train_x, test_validation_x, train_y, test_validation_y  = train_test_split(train_ids, train_df['class'], test_size=0.2, random_state=2019)\n",
        "validation_x, test_x, validation_y, test_y = train_test_split(test_validation_x, test_validation_y, test_size=0.5, random_state=2018)"
      ]
    },
    {
      "cell_type": "code",
      "execution_count": 29,
      "metadata": {
        "colab": {
          "base_uri": "https://localhost:8080/"
        },
        "id": "bSQEe4IVazCR",
        "outputId": "dd4d3163-fa96-4f99-8fa3-176219201ab3"
      },
      "outputs": [
        {
          "name": "stdout",
          "output_type": "stream",
          "text": [
            "FIRST BATCH:\n",
            "X = tf.Tensor(\n",
            "[[12844  5596  4884 ...     0     0     0]\n",
            " [10774 16521 13952 ...     0     0     0]\n",
            " [ 7446 10698 10774 ...     0     0     0]\n",
            " ...\n",
            " [ 4884 16995  4601 ...     0     0     0]\n",
            " [ 3913 15085 14017 ...     0     0     0]\n",
            " [ 4788 14598   310 ...     0     0     0]], shape=(256, 200), dtype=int32)\n",
            "y = tf.Tensor([0 0 1 ... 0 1 1], shape=(256,), dtype=int64)\n",
            "Total:  84\n"
          ]
        }
      ],
      "source": [
        "BATCH_SIZE = 256\n",
        "train_dataset = tf.data.Dataset.from_tensor_slices((train_x, train_y)) # train_x, train_y\n",
        "train_dataset = train_dataset.batch(BATCH_SIZE)\n",
        "\n",
        "validation_dataset = tf.data.Dataset.from_tensor_slices((validation_x, validation_y)) # validation_x, validation_y\n",
        "validation_dataset = validation_dataset.batch(BATCH_SIZE)\n",
        "\n",
        "test_dataset = tf.data.Dataset.from_tensor_slices((test_x, test_y)) # test_x, test_y\n",
        "test_dataset = test_dataset.batch(BATCH_SIZE)\n",
        "\n",
        "\n",
        "for idx, (x,y) in enumerate(train_dataset):\n",
        "    if idx == 0:\n",
        "        print('FIRST BATCH:')\n",
        "        print('X =',x)\n",
        "        print('y =',y)\n",
        "print(\"Total: \", idx)"
      ]
    },
    {
      "cell_type": "code",
      "execution_count": 30,
      "metadata": {
        "colab": {
          "base_uri": "https://localhost:8080/"
        },
        "id": "A5IasOPta9bK",
        "outputId": "b0e66f31-942f-42e5-ac32-12b3f9ca4c7c"
      },
      "outputs": [
        {
          "name": "stdout",
          "output_type": "stream",
          "text": [
            "EMBEDDING OF FIRST BATCH:\n",
            "tf.Tensor(\n",
            "[[[ 2.920e-02 -2.410e-02  7.960e-02 ...  8.000e-04 -2.180e-02 -7.700e-03]\n",
            "  [-7.600e-03 -4.540e-02  4.880e-02 ... -1.456e-01 -1.232e-01 -2.590e-02]\n",
            "  [ 2.100e-02  1.020e-02  9.600e-03 ...  4.110e-01 -2.519e-01  1.510e-02]\n",
            "  ...\n",
            "  [ 1.882e-01 -2.920e-01  7.200e-03 ...  5.919e-01 -3.094e-01 -1.228e-01]\n",
            "  [ 1.882e-01 -2.920e-01  7.200e-03 ...  5.919e-01 -3.094e-01 -1.228e-01]\n",
            "  [ 1.882e-01 -2.920e-01  7.200e-03 ...  5.919e-01 -3.094e-01 -1.228e-01]]\n",
            "\n",
            " [[-5.800e-03 -6.460e-02  1.976e-01 ... -1.739e-01  1.770e-02 -2.780e-02]\n",
            "  [-6.140e-02  4.890e-02  8.530e-02 ... -3.620e-02  4.590e-02 -6.180e-02]\n",
            "  [ 2.150e-02 -4.110e-02  2.015e-01 ... -9.910e-02 -4.840e-02  6.100e-03]\n",
            "  ...\n",
            "  [ 1.882e-01 -2.920e-01  7.200e-03 ...  5.919e-01 -3.094e-01 -1.228e-01]\n",
            "  [ 1.882e-01 -2.920e-01  7.200e-03 ...  5.919e-01 -3.094e-01 -1.228e-01]\n",
            "  [ 1.882e-01 -2.920e-01  7.200e-03 ...  5.919e-01 -3.094e-01 -1.228e-01]]\n",
            "\n",
            " [[ 4.510e-02 -2.430e-02  2.318e-01 ...  7.880e-02 -5.000e-04  7.280e-02]\n",
            "  [ 4.060e-02  2.700e-03  5.920e-02 ... -2.580e-02  2.230e-02  1.430e-02]\n",
            "  [-5.800e-03 -6.460e-02  1.976e-01 ... -1.739e-01  1.770e-02 -2.780e-02]\n",
            "  ...\n",
            "  [ 1.882e-01 -2.920e-01  7.200e-03 ...  5.919e-01 -3.094e-01 -1.228e-01]\n",
            "  [ 1.882e-01 -2.920e-01  7.200e-03 ...  5.919e-01 -3.094e-01 -1.228e-01]\n",
            "  [ 1.882e-01 -2.920e-01  7.200e-03 ...  5.919e-01 -3.094e-01 -1.228e-01]]\n",
            "\n",
            " ...\n",
            "\n",
            " [[ 2.100e-02  1.020e-02  9.600e-03 ...  4.110e-01 -2.519e-01  1.510e-02]\n",
            "  [ 2.880e-02  3.300e-03  1.828e-01 ...  3.690e-02 -3.850e-02  1.170e-02]\n",
            "  [-2.000e-04  8.060e-02 -2.290e-01 ...  3.588e-01  3.180e-02  5.780e-02]\n",
            "  ...\n",
            "  [ 1.882e-01 -2.920e-01  7.200e-03 ...  5.919e-01 -3.094e-01 -1.228e-01]\n",
            "  [ 1.882e-01 -2.920e-01  7.200e-03 ...  5.919e-01 -3.094e-01 -1.228e-01]\n",
            "  [ 1.882e-01 -2.920e-01  7.200e-03 ...  5.919e-01 -3.094e-01 -1.228e-01]]\n",
            "\n",
            " [[ 1.801e-01 -1.258e-01  1.759e-01 ... -5.200e-03 -1.485e-01  4.730e-02]\n",
            "  [-1.346e-01 -9.380e-02  4.480e-02 ...  5.680e-02  2.160e-02 -1.364e-01]\n",
            "  [-3.330e-02  6.300e-03 -5.372e-01 ... -1.747e-01  1.907e-01 -1.280e-02]\n",
            "  ...\n",
            "  [ 1.882e-01 -2.920e-01  7.200e-03 ...  5.919e-01 -3.094e-01 -1.228e-01]\n",
            "  [ 1.882e-01 -2.920e-01  7.200e-03 ...  5.919e-01 -3.094e-01 -1.228e-01]\n",
            "  [ 1.882e-01 -2.920e-01  7.200e-03 ...  5.919e-01 -3.094e-01 -1.228e-01]]\n",
            "\n",
            " [[ 3.490e-02 -2.000e-02  8.000e-04 ...  3.060e-02 -4.350e-02 -2.800e-03]\n",
            "  [-2.040e-02 -9.800e-03  2.290e-01 ... -5.420e-02 -6.620e-02  6.080e-02]\n",
            "  [ 4.660e-02 -5.350e-02  1.176e-01 ... -2.680e-02 -5.090e-02  3.610e-02]\n",
            "  ...\n",
            "  [ 1.882e-01 -2.920e-01  7.200e-03 ...  5.919e-01 -3.094e-01 -1.228e-01]\n",
            "  [ 1.882e-01 -2.920e-01  7.200e-03 ...  5.919e-01 -3.094e-01 -1.228e-01]\n",
            "  [ 1.882e-01 -2.920e-01  7.200e-03 ...  5.919e-01 -3.094e-01 -1.228e-01]]], shape=(256, 200, 300), dtype=float32)\n"
          ]
        }
      ],
      "source": [
        "for idx, (x,y) in enumerate(train_dataset):\n",
        "    if idx == 0:\n",
        "        print('EMBEDDING OF FIRST BATCH:')\n",
        "        print(tf.nn.embedding_lookup(word_vectors, x))"
      ]
    },
    {
      "attachments": {},
      "cell_type": "markdown",
      "metadata": {
        "id": "QBNLnztcbNNa"
      },
      "source": [
        "## LSTM Layer"
      ]
    },
    {
      "cell_type": "code",
      "execution_count": 42,
      "metadata": {
        "colab": {
          "base_uri": "https://localhost:8080/"
        },
        "id": "3NRKVrYEbQA7",
        "outputId": "923f2ab3-9eb4-4584-bb07-226c7ea129f4"
      },
      "outputs": [
        {
          "name": "stdout",
          "output_type": "stream",
          "text": [
            "Using GPU LSTM\n"
          ]
        }
      ],
      "source": [
        "if tf.test.is_gpu_available():\n",
        "    print('Using GPU LSTM')\n",
        "    lstm_layer = tf.keras.layers.LSTM\n",
        "else:\n",
        "    print('Using CPU LSTM')\n",
        "    lstm_layer = tf.keras.layers.LSTM\n"
      ]
    },
    {
      "cell_type": "code",
      "execution_count": 51,
      "metadata": {
        "id": "dOUMAHq5c072"
      },
      "outputs": [],
      "source": [
        "class sentimentAnalysisModel(tf.keras.Model):\n",
        "    \"\"\"\n",
        "    word2vec: numpy.array\n",
        "        Word vectors.\n",
        "    lstm_layers: list\n",
        "        List of LSTM layers. The last LSTM layer returns the output of the last LSTM layer.\n",
        "    dropout_layers: list\n",
        "        List of dropout layers.\n",
        "    dense_layer: Keras Dense Layer\n",
        "        The final dense layer that takes input from LSTM and outputs the number of classes using softmax activation.\n",
        "    \"\"\"\n",
        "    def __init__(self, word2vec, lstm_units, n_layers, num_classes, dropout_rate=0.25):\n",
        "        \"\"\"\n",
        "        initialize model\n",
        "        Paramters\n",
        "        ---------\n",
        "        word2vec: numpy.array\n",
        "        lstm_units: int\n",
        "        n_layers: int\n",
        "        num_classes: int\n",
        "        dropout_rate: float\n",
        "        \"\"\"\n",
        "\n",
        "        super().__init__(name='sentiment_analysis')\n",
        "\n",
        "        #initialize model properties\n",
        "        self.word2vec = word2vec\n",
        "\n",
        "        self.lstm_layers = []   #list to hold LSTM layers\n",
        "        self.dropout_layers = [] #list to hold dropout layers\n",
        "\n",
        "        for i in range(n_layers):\n",
        "            new_layer = lstm_layer(units=lstm_units, name=\"lstm_\" +str(i), return_sequences = (i< n_layers -1))\n",
        "            self.lstm_layers.append(new_layer)\n",
        "            self.dropout_layers.append(tf.keras.layers.Dropout(rate=dropout_rate, name=\"dropout_\"+str(i)))\n",
        "\n",
        "        self.dense_layer = tf.keras.layers.Dense(num_classes, activation='softmax', name=\"dense_0\")\n",
        "\n",
        "    def call(self, inputs):\n",
        "        #perform forward pass of the input throught the network\n",
        "        inputs = tf.cast(inputs, tf.int32)\n",
        "        #input is currently in indices, need to convert to vectors\n",
        "        inputs = tf.nn.embedding_lookup(self.word2vec, inputs)\n",
        "\n",
        "        for i in range(len(self.lstm_layers)):\n",
        "            inputs = self.lstm_layers[i](inputs)\n",
        "            inputs = self.dropout_layers[i](inputs)\n",
        "        out = self.dense_layer(inputs)\n",
        "        return out\n"
      ]
    },
    {
      "cell_type": "code",
      "execution_count": 44,
      "metadata": {
        "id": "NSpciAt2c9J7"
      },
      "outputs": [],
      "source": [
        "# Hyperparameters\n",
        "LSTM_UNITS = 128\n",
        "N_LAYERS = 2\n",
        "NUM_CLASSES = 2\n"
      ]
    },
    {
      "cell_type": "code",
      "execution_count": 52,
      "metadata": {
        "id": "YBK8gHetZMI2"
      },
      "outputs": [],
      "source": [
        "model = sentimentAnalysisModel(word_vectors, LSTM_UNITS, N_LAYERS, NUM_CLASSES)"
      ]
    },
    {
      "cell_type": "code",
      "execution_count": 46,
      "metadata": {
        "id": "1hHmKhmzeOJF"
      },
      "outputs": [],
      "source": [
        "LEARNING_RATE = 0.001\n",
        "optimizer = tf.keras.optimizers.Adam(learning_rate=LEARNING_RATE)\n",
        "EPOCHS = 50\n",
        "\n",
        "global_step = tf.Variable(0, trainable=False, dtype=tf.int64, name='global_step')\n",
        "checkpoint_dir = './model'\n",
        "checkpoint_prefix = os.path.join(checkpoint_dir, \"ckpt_{score}\")\n"
      ]
    },
    {
      "cell_type": "code",
      "execution_count": 47,
      "metadata": {
        "id": "pJ13n45oe1rE"
      },
      "outputs": [],
      "source": [
        "from fastprogress import master_bar, progress_bar"
      ]
    },
    {
      "attachments": {},
      "cell_type": "markdown",
      "metadata": {
        "id": "Bpnrgah9pEmr"
      },
      "source": [
        "## Epoch Training"
      ]
    },
    {
      "cell_type": "code",
      "execution_count": 91,
      "metadata": {
        "id": "Is-oQ-N4piLN"
      },
      "outputs": [],
      "source": [
        "def epoch_training(model, dataset, global_step, mb, num_step):\n",
        "    \"\"\"\n",
        "    Huấn luyện mô hình qua 1 epoch\n",
        "\n",
        "    Parameters\n",
        "    ----------\n",
        "    model: tf.keras.Model\n",
        "        model cần huấn luyện\n",
        "    dataset: tf.Dataset\n",
        "        dataset dùng để huấn luyện\n",
        "    global_step: global step\n",
        "    mb: fastprogress.master_bar\n",
        "        thanh biểu diễn tiến độ\n",
        "    num_step: int\n",
        "        số bước lặp trong mỗi epoch\n",
        "    Returns\n",
        "    -------\n",
        "    \"\"\"\n",
        "    train_losses = [] # Chứa giá trị loss của các batch\n",
        "    dataset_iter = iter(dataset)\n",
        "    for _ in progress_bar(range(num_step), parent=mb):\n",
        "        inp, target = next(dataset_iter)\n",
        "\n",
        "        with tf.GradientTape() as tape:\n",
        "            predictions = model(inp)\n",
        "            loss_object = tf.keras.losses.SparseCategoricalCrossentropy(from_logits=True)\n",
        "            loss = loss_object(target, predictions)\n",
        "            train_losses.append(loss)\n",
        "\n",
        "        grads = tape.gradient(loss, model.trainable_variables)\n",
        "        optimizer.apply_gradients(zip(grads, model.trainable_variables), global_step = global_step)\n",
        "        mb.child.comment = 'Train loss {:.4f}'.format(loss)\n",
        "\n",
        "\n",
        "    return tf.reduce_mean(train_losses)"
      ]
    },
    {
      "attachments": {},
      "cell_type": "markdown",
      "metadata": {
        "id": "-U6OXP0fuuuv"
      },
      "source": [
        "### Epoch Evaluation"
      ]
    },
    {
      "cell_type": "code",
      "execution_count": 94,
      "metadata": {
        "id": "EhIWH93Yu1bq"
      },
      "outputs": [],
      "source": [
        "def epoch_evaluation(model, dataset, mb, num_step):\n",
        "    \"\"\"\n",
        "    model: tf.keras.Model\n",
        "    dataset: tf.Dataset\n",
        "    mb: fastprogress.master_bar\n",
        "    num_step: int\n",
        "    --------------------\n",
        "    return\n",
        "        Average Loss Value\n",
        "        F1-score\n",
        "    \"\"\"\n",
        "    val_losses = []   # loss of batch\n",
        "    val_gt = []       # value of groundtruth\n",
        "    val_pred = [] # value predict of model in validation\n",
        "    dataset_iter = iter(dataset)\n",
        "    for _ in progress_bar(range(num_step), parent= mb):\n",
        "       inp, target = next(dataset_iter)\n",
        "       val_gt.extend(target.numpy().astype(np.int32).tolist())\n",
        "       predictions = model(inp)\n",
        "\n",
        "       loss_object = tf.keras.losses.SparseCategoricalCrossentropy(from_logits=True)\n",
        "       loss = loss_object(target, predictions)\n",
        "       val_losses.append(loss)\n",
        "       val_pred.extend(tf.argmax(predictions,1).numpy().astype(np.int32).tolist())\n",
        "\n",
        "       mb.child.comment = 'validation loss {:.4f}'.format(loss)\n",
        "\n",
        "\n",
        "    return sum(val_losses)/len(val_losses), f1_score(val_gt, val_pred)"
      ]
    },
    {
      "attachments": {},
      "cell_type": "markdown",
      "metadata": {
        "id": "pWRKwf8oxGZh"
      },
      "source": [
        "### トレーニングプロセスの確立"
      ]
    },
    {
      "cell_type": "code",
      "execution_count": 96,
      "metadata": {
        "colab": {
          "base_uri": "https://localhost:8080/",
          "height": 1000
        },
        "id": "HjYZVurlymdi",
        "outputId": "8c75b38e-59ae-4e7d-d895-337bddf84e00"
      },
      "outputs": [
        {
          "data": {
            "text/html": [
              "\n",
              "<style>\n",
              "    /* Turns off some styling */\n",
              "    progress {\n",
              "        /* gets rid of default border in Firefox and Opera. */\n",
              "        border: none;\n",
              "        /* Needs to be in here for Safari polyfill so background images work as expected. */\n",
              "        background-size: auto;\n",
              "    }\n",
              "    progress:not([value]), progress:not([value])::-webkit-progress-bar {\n",
              "        background: repeating-linear-gradient(45deg, #7e7e7e, #7e7e7e 10px, #5c5c5c 10px, #5c5c5c 20px);\n",
              "    }\n",
              "    .progress-bar-interrupted, .progress-bar-interrupted::-webkit-progress-bar {\n",
              "        background: #F44336;\n",
              "    }\n",
              "</style>\n"
            ],
            "text/plain": [
              "<IPython.core.display.HTML object>"
            ]
          },
          "metadata": {},
          "output_type": "display_data"
        },
        {
          "data": {
            "text/html": [
              "Finish train epoch 0 with loss 0.6899<p>Finish validate epoch 0 with loss 0.6954, F1-score 0.6523<p>>>> Improved F1-score from 0.0000 to 0.6523<p>Finish train epoch 1 with loss 0.6923<p>Finish validate epoch 1 with loss 0.6912, F1-score 0.0000<p>Finish train epoch 2 with loss 0.6920<p>Finish validate epoch 2 with loss 0.6940, F1-score 0.6481<p>Finish train epoch 3 with loss 0.6918<p>Finish validate epoch 3 with loss 0.6972, F1-score 0.6443<p>Finish train epoch 4 with loss 0.6917<p>Finish validate epoch 4 with loss 0.6966, F1-score 0.6481<p>Finish train epoch 5 with loss 0.6916<p>Finish validate epoch 5 with loss 0.6945, F1-score 0.6465<p>Finish train epoch 6 with loss 0.6915<p>Finish validate epoch 6 with loss 0.6967, F1-score 0.6505<p>Finish train epoch 7 with loss 0.6919<p>Finish validate epoch 7 with loss 0.6966, F1-score 0.6467<p>Finish train epoch 8 with loss 0.6914<p>Finish validate epoch 8 with loss 0.6947, F1-score 0.6463<p>Finish train epoch 9 with loss 0.6912<p>Finish validate epoch 9 with loss 0.6863, F1-score 0.6514<p>Finish train epoch 10 with loss 0.6917<p>Finish validate epoch 10 with loss 0.6954, F1-score 0.6466<p>Finish train epoch 11 with loss 0.6905<p>Finish validate epoch 11 with loss 0.6943, F1-score 0.6608<p>>>> Improved F1-score from 0.6523 to 0.6608<p>Finish train epoch 12 with loss 0.6900<p>Finish validate epoch 12 with loss 0.6968, F1-score 0.6472<p>Finish train epoch 13 with loss 0.6911<p>Finish validate epoch 13 with loss 0.6952, F1-score 0.6569<p>Finish train epoch 14 with loss 0.6890<p>Finish validate epoch 14 with loss 0.6907, F1-score 0.6614<p>>>> Improved F1-score from 0.6608 to 0.6614<p>Finish train epoch 15 with loss 0.6626<p>Finish validate epoch 15 with loss 0.5812, F1-score 0.6400<p>Finish train epoch 16 with loss 0.5390<p>Finish validate epoch 16 with loss 0.4507, F1-score 0.7936<p>>>> Improved F1-score from 0.6614 to 0.7936<p>Finish train epoch 17 with loss 0.4438<p>Finish validate epoch 17 with loss 0.3924, F1-score 0.8331<p>>>> Improved F1-score from 0.7936 to 0.8331<p>Finish train epoch 18 with loss 0.3974<p>Finish validate epoch 18 with loss 0.4443, F1-score 0.8219<p>Finish train epoch 19 with loss 0.3879<p>Finish validate epoch 19 with loss 0.4293, F1-score 0.8289<p>Finish train epoch 20 with loss 0.3661<p>Finish validate epoch 20 with loss 0.4061, F1-score 0.8425<p>>>> Improved F1-score from 0.8331 to 0.8425<p>Finish train epoch 21 with loss 0.3564<p>Finish validate epoch 21 with loss 0.3506, F1-score 0.8611<p>>>> Improved F1-score from 0.8425 to 0.8611<p>Finish train epoch 22 with loss 0.3442<p>Finish validate epoch 22 with loss 0.3415, F1-score 0.8687<p>>>> Improved F1-score from 0.8611 to 0.8687<p>Finish train epoch 23 with loss 0.3359<p>Finish validate epoch 23 with loss 0.3290, F1-score 0.8667<p>Finish train epoch 24 with loss 0.3281<p>Finish validate epoch 24 with loss 0.3224, F1-score 0.8656<p>Finish train epoch 25 with loss 0.3211<p>Finish validate epoch 25 with loss 0.3203, F1-score 0.8615<p>Finish train epoch 26 with loss 0.3149<p>Finish validate epoch 26 with loss 0.3206, F1-score 0.8577<p>Finish train epoch 27 with loss 0.3094<p>Finish validate epoch 27 with loss 0.3199, F1-score 0.8565<p>Finish train epoch 28 with loss 0.3044<p>Finish validate epoch 28 with loss 0.3137, F1-score 0.8598<p>Finish train epoch 29 with loss 0.2999<p>Finish validate epoch 29 with loss 0.3053, F1-score 0.8671<p>Finish train epoch 30 with loss 0.2962<p>Finish validate epoch 30 with loss 0.2996, F1-score 0.8775<p>>>> Improved F1-score from 0.8687 to 0.8775<p>Finish train epoch 31 with loss 0.2931<p>Finish validate epoch 31 with loss 0.3018, F1-score 0.8784<p>>>> Improved F1-score from 0.8775 to 0.8784<p>Finish train epoch 32 with loss 0.2903<p>Finish validate epoch 32 with loss 0.3106, F1-score 0.8756<p>Finish train epoch 33 with loss 0.2863<p>Finish validate epoch 33 with loss 0.3095, F1-score 0.8750<p>Finish train epoch 34 with loss 0.2813<p>Finish validate epoch 34 with loss 0.3050, F1-score 0.8753<p>Finish train epoch 35 with loss 0.2768<p>Finish validate epoch 35 with loss 0.3049, F1-score 0.8758<p>Finish train epoch 36 with loss 0.2723<p>Finish validate epoch 36 with loss 0.3023, F1-score 0.8766<p>Finish train epoch 37 with loss 0.2674<p>Finish validate epoch 37 with loss 0.2955, F1-score 0.8794<p>>>> Improved F1-score from 0.8784 to 0.8794<p>Finish train epoch 38 with loss 0.2628<p>Finish validate epoch 38 with loss 0.2929, F1-score 0.8817<p>>>> Improved F1-score from 0.8794 to 0.8817<p>Finish train epoch 39 with loss 0.2591<p>Finish validate epoch 39 with loss 0.2917, F1-score 0.8804<p>Finish train epoch 40 with loss 0.2578<p>Finish validate epoch 40 with loss 0.2925, F1-score 0.8820<p>>>> Improved F1-score from 0.8817 to 0.8820<p>Finish train epoch 41 with loss 0.2497<p>Finish validate epoch 41 with loss 0.2957, F1-score 0.8788<p>Finish train epoch 42 with loss 0.2459<p>Finish validate epoch 42 with loss 0.2929, F1-score 0.8791<p>Finish train epoch 43 with loss 0.2429<p>Finish validate epoch 43 with loss 0.2996, F1-score 0.8769<p>Finish train epoch 44 with loss 0.2434<p>Finish validate epoch 44 with loss 0.3025, F1-score 0.8781<p>Finish train epoch 45 with loss 0.2378<p>Finish validate epoch 45 with loss 0.3079, F1-score 0.8772<p>Finish train epoch 46 with loss 0.2370<p>Finish validate epoch 46 with loss 0.3008, F1-score 0.8753<p>Finish train epoch 47 with loss 0.2339<p>Finish validate epoch 47 with loss 0.3352, F1-score 0.8683<p>Finish train epoch 48 with loss 0.2371<p>Finish validate epoch 48 with loss 0.3271, F1-score 0.8636<p>Finish train epoch 49 with loss 0.2307<p>Finish validate epoch 49 with loss 0.3185, F1-score 0.8702"
            ],
            "text/plain": [
              "<IPython.core.display.HTML object>"
            ]
          },
          "metadata": {},
          "output_type": "display_data"
        },
        {
          "data": {
            "image/png": "[encoded data removed]",
            "text/plain": [
              "<Figure size 600x400 with 1 Axes>"
            ]
          },
          "metadata": {},
          "output_type": "display_data"
        }
      ],
      "source": [
        "best_score = 0\n",
        "mb = master_bar(range(EPOCHS))\n",
        "mb.names = ['Training loss', 'Validation loss', 'F1']\n",
        "training_losses = []\n",
        "validation_losses = []\n",
        "f1_scores = []\n",
        "x = []\n",
        "\n",
        "train_step = math.ceil(len(train_x)*1.0/BATCH_SIZE)\n",
        "val_step = math.ceil(len(validation_x)*1.0/BATCH_SIZE)\n",
        "for epoch in mb:\n",
        "\n",
        "    # initializing the hidden state at the start of every epoch\n",
        "    # initally hidden is None\n",
        "    hidden = model.reset_states()\n",
        "    x.append(epoch)\n",
        "\n",
        "\n",
        "    #training with epoch_training()\n",
        "    training_loss = epoch_training(model, train_dataset, global_step, mb, num_step=train_step)\n",
        "\n",
        "    mb.write('Finish train epoch {} with loss {:.4f}'.format(epoch, training_loss))\n",
        "    training_losses.append(training_loss)\n",
        "\n",
        "\n",
        "    # evaluation with epoch_evaluation()\n",
        "    valid_loss, valid_score = epoch_evaluation(model, validation_dataset, mb, num_step=val_step)\n",
        "\n",
        "    mb.write('Finish validate epoch {} with loss {:.4f}, F1-score {:.4f}'.format(epoch,valid_loss, valid_score))\n",
        "    validation_losses.append(valid_loss)\n",
        "    f1_scores.append(valid_score)\n",
        "\n",
        "    # update plot\n",
        "    global_step.assign_add(1)\n",
        "    mb.update_graph([[x, training_losses], [x, validation_losses], [x, f1_scores]], [0,EPOCHS], [0,1])\n",
        "\n",
        "    # Update score và model bestest\n",
        "    if best_score < valid_score:\n",
        "        mb.write(\">>> Improved F1-score from {:.4f} to {:.4f}\".format(best_score, valid_score))\n",
        "        # Update best_score\n",
        "        best_score = valid_score\n",
        "        # Save model\n",
        "        model.save_weights(checkpoint_prefix.format(score=valid_score))\n",
        "\n"
      ]
    },
    {
      "attachments": {},
      "cell_type": "markdown",
      "metadata": {
        "id": "BTNCh19X0XNF"
      },
      "source": [
        "### **ラベル付けされたテスト セットでモデルを評価する**\n",
        "\n",
        "F1スケールを使用してモデルの精度を評価します。"
      ]
    },
    {
      "cell_type": "code",
      "execution_count": 97,
      "metadata": {
        "colab": {
          "base_uri": "https://localhost:8080/",
          "height": 1000
        },
        "id": "-7fzrqor0wUn",
        "outputId": "2efc95af-d8d2-4a99-f842-fcc953073ee3"
      },
      "outputs": [
        {
          "data": {
            "text/html": [
              "\n",
              "    <div>\n",
              "      <progress value='50' class='' max='50' style='width:300px; height:20px; vertical-align: middle;'></progress>\n",
              "      100.00% [50/50 08:02&lt;00:00]\n",
              "    </div>\n",
              "    \n",
              "Finish train epoch 0 with loss 0.6899<p>Finish validate epoch 0 with loss 0.6954, F1-score 0.6523<p>>>> Improved F1-score from 0.0000 to 0.6523<p>Finish train epoch 1 with loss 0.6923<p>Finish validate epoch 1 with loss 0.6912, F1-score 0.0000<p>Finish train epoch 2 with loss 0.6920<p>Finish validate epoch 2 with loss 0.6940, F1-score 0.6481<p>Finish train epoch 3 with loss 0.6918<p>Finish validate epoch 3 with loss 0.6972, F1-score 0.6443<p>Finish train epoch 4 with loss 0.6917<p>Finish validate epoch 4 with loss 0.6966, F1-score 0.6481<p>Finish train epoch 5 with loss 0.6916<p>Finish validate epoch 5 with loss 0.6945, F1-score 0.6465<p>Finish train epoch 6 with loss 0.6915<p>Finish validate epoch 6 with loss 0.6967, F1-score 0.6505<p>Finish train epoch 7 with loss 0.6919<p>Finish validate epoch 7 with loss 0.6966, F1-score 0.6467<p>Finish train epoch 8 with loss 0.6914<p>Finish validate epoch 8 with loss 0.6947, F1-score 0.6463<p>Finish train epoch 9 with loss 0.6912<p>Finish validate epoch 9 with loss 0.6863, F1-score 0.6514<p>Finish train epoch 10 with loss 0.6917<p>Finish validate epoch 10 with loss 0.6954, F1-score 0.6466<p>Finish train epoch 11 with loss 0.6905<p>Finish validate epoch 11 with loss 0.6943, F1-score 0.6608<p>>>> Improved F1-score from 0.6523 to 0.6608<p>Finish train epoch 12 with loss 0.6900<p>Finish validate epoch 12 with loss 0.6968, F1-score 0.6472<p>Finish train epoch 13 with loss 0.6911<p>Finish validate epoch 13 with loss 0.6952, F1-score 0.6569<p>Finish train epoch 14 with loss 0.6890<p>Finish validate epoch 14 with loss 0.6907, F1-score 0.6614<p>>>> Improved F1-score from 0.6608 to 0.6614<p>Finish train epoch 15 with loss 0.6626<p>Finish validate epoch 15 with loss 0.5812, F1-score 0.6400<p>Finish train epoch 16 with loss 0.5390<p>Finish validate epoch 16 with loss 0.4507, F1-score 0.7936<p>>>> Improved F1-score from 0.6614 to 0.7936<p>Finish train epoch 17 with loss 0.4438<p>Finish validate epoch 17 with loss 0.3924, F1-score 0.8331<p>>>> Improved F1-score from 0.7936 to 0.8331<p>Finish train epoch 18 with loss 0.3974<p>Finish validate epoch 18 with loss 0.4443, F1-score 0.8219<p>Finish train epoch 19 with loss 0.3879<p>Finish validate epoch 19 with loss 0.4293, F1-score 0.8289<p>Finish train epoch 20 with loss 0.3661<p>Finish validate epoch 20 with loss 0.4061, F1-score 0.8425<p>>>> Improved F1-score from 0.8331 to 0.8425<p>Finish train epoch 21 with loss 0.3564<p>Finish validate epoch 21 with loss 0.3506, F1-score 0.8611<p>>>> Improved F1-score from 0.8425 to 0.8611<p>Finish train epoch 22 with loss 0.3442<p>Finish validate epoch 22 with loss 0.3415, F1-score 0.8687<p>>>> Improved F1-score from 0.8611 to 0.8687<p>Finish train epoch 23 with loss 0.3359<p>Finish validate epoch 23 with loss 0.3290, F1-score 0.8667<p>Finish train epoch 24 with loss 0.3281<p>Finish validate epoch 24 with loss 0.3224, F1-score 0.8656<p>Finish train epoch 25 with loss 0.3211<p>Finish validate epoch 25 with loss 0.3203, F1-score 0.8615<p>Finish train epoch 26 with loss 0.3149<p>Finish validate epoch 26 with loss 0.3206, F1-score 0.8577<p>Finish train epoch 27 with loss 0.3094<p>Finish validate epoch 27 with loss 0.3199, F1-score 0.8565<p>Finish train epoch 28 with loss 0.3044<p>Finish validate epoch 28 with loss 0.3137, F1-score 0.8598<p>Finish train epoch 29 with loss 0.2999<p>Finish validate epoch 29 with loss 0.3053, F1-score 0.8671<p>Finish train epoch 30 with loss 0.2962<p>Finish validate epoch 30 with loss 0.2996, F1-score 0.8775<p>>>> Improved F1-score from 0.8687 to 0.8775<p>Finish train epoch 31 with loss 0.2931<p>Finish validate epoch 31 with loss 0.3018, F1-score 0.8784<p>>>> Improved F1-score from 0.8775 to 0.8784<p>Finish train epoch 32 with loss 0.2903<p>Finish validate epoch 32 with loss 0.3106, F1-score 0.8756<p>Finish train epoch 33 with loss 0.2863<p>Finish validate epoch 33 with loss 0.3095, F1-score 0.8750<p>Finish train epoch 34 with loss 0.2813<p>Finish validate epoch 34 with loss 0.3050, F1-score 0.8753<p>Finish train epoch 35 with loss 0.2768<p>Finish validate epoch 35 with loss 0.3049, F1-score 0.8758<p>Finish train epoch 36 with loss 0.2723<p>Finish validate epoch 36 with loss 0.3023, F1-score 0.8766<p>Finish train epoch 37 with loss 0.2674<p>Finish validate epoch 37 with loss 0.2955, F1-score 0.8794<p>>>> Improved F1-score from 0.8784 to 0.8794<p>Finish train epoch 38 with loss 0.2628<p>Finish validate epoch 38 with loss 0.2929, F1-score 0.8817<p>>>> Improved F1-score from 0.8794 to 0.8817<p>Finish train epoch 39 with loss 0.2591<p>Finish validate epoch 39 with loss 0.2917, F1-score 0.8804<p>Finish train epoch 40 with loss 0.2578<p>Finish validate epoch 40 with loss 0.2925, F1-score 0.8820<p>>>> Improved F1-score from 0.8817 to 0.8820<p>Finish train epoch 41 with loss 0.2497<p>Finish validate epoch 41 with loss 0.2957, F1-score 0.8788<p>Finish train epoch 42 with loss 0.2459<p>Finish validate epoch 42 with loss 0.2929, F1-score 0.8791<p>Finish train epoch 43 with loss 0.2429<p>Finish validate epoch 43 with loss 0.2996, F1-score 0.8769<p>Finish train epoch 44 with loss 0.2434<p>Finish validate epoch 44 with loss 0.3025, F1-score 0.8781<p>Finish train epoch 45 with loss 0.2378<p>Finish validate epoch 45 with loss 0.3079, F1-score 0.8772<p>Finish train epoch 46 with loss 0.2370<p>Finish validate epoch 46 with loss 0.3008, F1-score 0.8753<p>Finish train epoch 47 with loss 0.2339<p>Finish validate epoch 47 with loss 0.3352, F1-score 0.8683<p>Finish train epoch 48 with loss 0.2371<p>Finish validate epoch 48 with loss 0.3271, F1-score 0.8636<p>Finish train epoch 49 with loss 0.2307<p>Finish validate epoch 49 with loss 0.3185, F1-score 0.8702\n",
              "\n",
              "    <div>\n",
              "      <progress value='11' class='' max='11' style='width:300px; height:20px; vertical-align: middle;'></progress>\n",
              "      100.00% [11/11 00:00&lt;00:00 validation loss 0.2784]\n",
              "    </div>\n",
              "    "
            ],
            "text/plain": [
              "<IPython.core.display.HTML object>"
            ]
          },
          "metadata": {},
          "output_type": "display_data"
        }
      ],
      "source": [
        "test_loss, test_score = epoch_evaluation(model, test_dataset, mb, math.ceil(len(test_x) *1.0/BATCH_SIZE))"
      ]
    },
    {
      "cell_type": "code",
      "execution_count": 98,
      "metadata": {
        "colab": {
          "base_uri": "https://localhost:8080/"
        },
        "id": "BxSCnXx51FVw",
        "outputId": "a576f4cc-ffbb-4f8d-cb12-6f733f942259"
      },
      "outputs": [
        {
          "name": "stdout",
          "output_type": "stream",
          "text": [
            "F1-score on test set: 0.8672443674176777\n"
          ]
        }
      ],
      "source": [
        "print(\"F1-score on test set:\", test_score)"
      ]
    },
    {
      "attachments": {},
      "cell_type": "markdown",
      "metadata": {
        "id": "FBupHYdz1Xqb"
      },
      "source": [
        "## **3000以上のラベルレスコメントテンプレートを予測**"
      ]
    },
    {
      "cell_type": "code",
      "execution_count": 99,
      "metadata": {
        "colab": {
          "base_uri": "https://localhost:8080/",
          "height": 1000
        },
        "id": "pwYbbZxK1ZV4",
        "outputId": "7270fc8a-e098-4e86-dced-700862aac7eb"
      },
      "outputs": [
        {
          "data": {
            "text/html": [
              "\n",
              "  <div id=\"df-99c049d1-dbd0-45a7-ac4a-4af4692c851c\">\n",
              "    <div class=\"colab-df-container\">\n",
              "      <div>\n",
              "<style scoped>\n",
              "    .dataframe tbody tr th:only-of-type {\n",
              "        vertical-align: middle;\n",
              "    }\n",
              "\n",
              "    .dataframe tbody tr th {\n",
              "        vertical-align: top;\n",
              "    }\n",
              "\n",
              "    .dataframe thead th {\n",
              "        text-align: right;\n",
              "    }\n",
              "</style>\n",
              "<table border=\"1\" class=\"dataframe\">\n",
              "  <thead>\n",
              "    <tr style=\"text-align: right;\">\n",
              "      <th></th>\n",
              "      <th>id</th>\n",
              "      <th>text</th>\n",
              "    </tr>\n",
              "  </thead>\n",
              "  <tbody>\n",
              "    <tr>\n",
              "      <th>0</th>\n",
              "      <td>2017ec48</td>\n",
              "      <td>Mình kêu 6 loại khác nhau , mỗi laoij 1 cục mà ăn cái nào cũng như nhau , cứ như đang ăn 1 loại vậy . Cuối cùng ngon nhất lại là cục khoai môn chiên . Mấy loại há cảo xíu mại bánh xẹp ăn ngán cực kỳ , mà làm cục to tổ bố để ép khách mua với cái giá 19k . Ko hiểu ăn được cái gì ở đây mà có người khen ngon</td>\n",
              "    </tr>\n",
              "    <tr>\n",
              "      <th>1</th>\n",
              "      <td>e3f0ea32</td>\n",
              "      <td>Ăn ở đây từ trc khi chủ nhà xây nhà mới .   chất lg ko đổi còn giá có tăng từ từ 1-2k : ) )\\r\\nphần mìh kiu là 2 thường 2 trứng 22k - hơi no tẹo và CỰC KÌ NGONNN &gt;   &lt;\\r\\nđi vạn kiếp rẽ vào hẻm có biển hoa đàm ni tự và đi chừng 50m là tới , vì hẻm 2m nên để xe bên ngoài dọc theo 2 dãy nhà , chú chủ sẽ sắp xếp xe lại nhưng mình khuyến khích các b mua về : ) )   ăn tại chỗ thì bàn ghế sạch sẽ , ly uống nước là loại dùng 1 lần - &gt; kết điểm này ! ! !\\r\\nphục vụ của 2 vk ck chủ thì miễn bàn , cực kì thân thiện . dạo này có 1 cô nữa phụ bán nhưng ko dc lanh lẹ lắm .\\r\\n* quán chỉ bán buổi sáng tới chừng 9-10g là hết . lâu lâu thì 11g .\\r\\n* hành phi tự làm ngon và giòn lắm nhé ^ ^ còn bánh cuốn thì gọi tới đâu làm tới đó , ko qá lâu và bánh còn ấm .</td>\n",
              "    </tr>\n",
              "    <tr>\n",
              "      <th>2</th>\n",
              "      <td>8743eae3</td>\n",
              "      <td>Các bạn đến ăn ngay và luôn đi nhé ! !\\r\\nMình từ trước giờ chỉ Súp cua Súp óc heo làm tới , từ khi tới quán , mình đã biết thêm nhiều loại khác ( rong biển , hến , thập cẩm , . . mới đây còn có thêm súp còi điệp ) . Không chỉ có súp không âu nha , nhìn menu mà món nào cũng muôn ăn ... Ah , bánh Flan trà xanh cực ngon luôn , món khoái khẩu của mình ấy ... Mình không có thói quen chộp hình thức ăn trước khi ăn , nên các bạn đến ngay SÚP SÀI GÒN Q4 và cảm nhận nhé ^ ^</td>\n",
              "    </tr>\n",
              "    <tr>\n",
              "      <th>3</th>\n",
              "      <td>7b554248</td>\n",
              "      <td>Đây gần như quán ruột của mình luôn : ) ) đây đồ ăn ngon , nhân viên dễ thương , mấy anh giữ xe phía ngoài cũng dễ thương ko kém : ) ) giá cả thì hợp lý khỏi bàn luôn rồi . Đây là 3 món ruột , lần nào đến cũng phải ăn : ) ) ) hahaaa</td>\n",
              "    </tr>\n",
              "    <tr>\n",
              "      <th>4</th>\n",
              "      <td>bedd1403</td>\n",
              "      <td>Tiếc là 25 năm sống ở Tây Ninh thì đây là lần đầu tiên mình ghé .\\r\\nThức ăn rất Việt Nam , ngon và vị tuyệt vời , giá hợp lý .\\r\\nKhuyết điểm :\\r\\nGiờ cơm trưa quán đắc nên đợi rất lâu ,\\r\\nMình quên giử số điện thoại để đặt chổ và thức ăn trước , a e ai ghé thì thêm vào giúp .\\r\\nHơi nóng , và chắc vì quán đông quá nên phần mỷ quan có điễm trừ ,</td>\n",
              "    </tr>\n",
              "    <tr>\n",
              "      <th>5</th>\n",
              "      <td>8bbfd5a7</td>\n",
              "      <td>Vâ ̃ n la ̀ Ze ́ , Ze ́ luôn nhâ ́ t 👍\\r\\nCuô ́ i tuâ ̀ n no nê vơ ́ i my ̀ ga ̀ phô mai , sushi , ga ̀ ra ́ n thanh cua , soda va ̀ xoa ̀ i lă ́ c\\r\\nPha ̉ i no ́ i la ̀ sau ca ́ i mo ́ n ba ̣ ch tuô ̣ c xa ̀ o cay thi ̀ my ̀ ga ̀ phô mai la ̀ ca ́ i mo ́ n gây nghiê ̣ n nhâ ́ t 😍 my ̀ mê ̀ m dai co ́ vi ̣ cay cay , cu ̀ ng vơ ́ i ga ̀ viên gio ̀ n gio ̀ n 👍 yêu ca ́ i mo ́ n na ̀ y\\r\\nXoa ̀ i lă ́ c , đâu đâu cu ̃ ng xoa ̀ i lă ́ c , ma ̀ bư ̃ a nay mơ ́ i ăn xoa ̀ i lă ́ c cu ̉ a ze ́ , hi ̀ nh như la ̀ chung công thư ́ c hay sao nên thâ ́ y ăn chô ̃ na ̀ o cu ̃ ng giô ́ ng nhau , xoa ̀ i ngon , vi ̣ vư ̀ a ăn , ko qua ́ cay hay qua ́ mă ̣ n , nhưng co ́ miê ́ ng gio ̀ n miê ́ ng thi ̀ mê ̀ m 😢 mi ̀ nh la ̣ i thi ́ ch gio ̀ n hơn , nhưng to ́ m la ̣ i la ̀ vâ ̃ n ngon\\r\\nChu ̉ nhâ ̣ t , ma ̀ không pha ̉ i riêng chu ̉ nhâ ̣ t , buô ̉ i tô ́ i la ̀ ze ́ đông ơi la ̀ đông , nhưng ma ̀ phu ̣ c vu ̣ vâ ̃ n nhanh nhe ̣ n , nhiê ̣ t ti ̀ nh , thi ́ ch dê ̃ sơ ̣\\r\\nTô ́ i nay chă ́ c ng...</td>\n",
              "    </tr>\n",
              "    <tr>\n",
              "      <th>6</th>\n",
              "      <td>1b85aa7f</td>\n",
              "      <td>Nhà hàng đẹp , không gian rộng , có phòng riêng .\\r\\nSo với mặt bằng và vị trị thì giá cả như vậy là hợp lí , nhưng giá thức uống thì hơi cao .\\r\\nNhóm 7 người order 1combo dành cho 2 người rồi gọi thêm 1 phan kim chi , linh tinh cac rau củ nướng , 1 phan bò mỹ , 1ga lá quế phô mai ( ngon ) , sashimi cá hồi , 1 sụn gà chien gion ( lượng hơi it , giá hơi cao , ngon nhưng hơi lạt 1 chút ) , 1 cơm trộn ( ko co j dac biet , ko ngon lam ) , 1 cái lẩu miso , nuoc uong . Phải nói là ăn ngập mặt thịt thà luôn , cả đám ngán thịt lun , no muon lăn về .\\r\\nPhải công nhận là cái combo đó wa chất lượng và đáng đồng tien lam nha , nhìn hình tưởng ít , ai dè lên món thay qua troi , neu 2 ng mà ăn 1combo cho 2ng chac no căng bụng lun .\\r\\nNhà hàng có chuong trinh 1 nguoi check in &amp; like page = tặng 50gr , nhóm mình 7ng check in &amp; like page = tặng 350gr - - - &gt; quá đã luôn .\\r\\nKhẩu vị : thịt bò mềm , ngon , nhưng hơi lạt , mù tạt ko cay , sashi mi cá hồi ăn ko ngon lắm vì có ăn vào gân\\r\\nNhân viê...</td>\n",
              "    </tr>\n",
              "    <tr>\n",
              "      <th>7</th>\n",
              "      <td>dde11e38</td>\n",
              "      <td>Vừa rồi có ghé ăn tiêp , mình chọn món cơm cá hồi áp chảo , miếng cá hồi cực to , mình thấy rất đáng tiền cho suất này với giá 89k . Thịt cá hồi áp chảo chín tới , ăn béo và rất thơm . Phần này một mình mình ăn k hết . Rất đáng để thử</td>\n",
              "    </tr>\n",
              "    <tr>\n",
              "      <th>8</th>\n",
              "      <td>efebda46</td>\n",
              "      <td>Quán này bánh nhiều + ngon cực\\r\\nThích nhất là Flan Gatoux của quán\\r\\nNhân viên dễ thương , ko gian quán cũng đẹp nữa .\\r\\nHơi khó kiếm tí nên cứ tìm địa chỉ gần đó rồi hỏi người dân xung quanh là người ta chỉ .</td>\n",
              "    </tr>\n",
              "    <tr>\n",
              "      <th>9</th>\n",
              "      <td>e8017e35</td>\n",
              "      <td>Đến với Wichita lúc đầy là về tarot nhưng trong thời gian chờ mình có gọi nước uống không ngờ loại nước uống ở đây cực kì ngon và đặc biệt lạ mang đậm phong cách riêng biệt .\\r\\nĐược các em phục vụ giới thiệu thêm món bánh canh chả cá Quy   Nhơn nữa , làm một tô giống nơi ngon nhất ở quê mình ( quy nhơn ) bán luôn .\\r\\nTúm lại là đậm chất các bạn nên đến thử và trả nghiệm , hiện tại đây là địa chỉ quen thuộc thường xuyên lui tới của mình .\\r\\nNgại gì mà không đến .</td>\n",
              "    </tr>\n",
              "  </tbody>\n",
              "</table>\n",
              "</div>\n",
              "      <button class=\"colab-df-convert\" onclick=\"convertToInteractive('df-99c049d1-dbd0-45a7-ac4a-4af4692c851c')\"\n",
              "              title=\"Convert this dataframe to an interactive table.\"\n",
              "              style=\"display:none;\">\n",
              "        \n",
              "  <svg xmlns=\"http://www.w3.org/2000/svg\" height=\"24px\"viewBox=\"0 0 24 24\"\n",
              "       width=\"24px\">\n",
              "    <path d=\"M0 0h24v24H0V0z\" fill=\"none\"/>\n",
              "    <path d=\"M18.56 5.44l.94 2.06.94-2.06 2.06-.94-2.06-.94-.94-2.06-.94 2.06-2.06.94zm-11 1L8.5 8.5l.94-2.06 2.06-.94-2.06-.94L8.5 2.5l-.94 2.06-2.06.94zm10 10l.94 2.06.94-2.06 2.06-.94-2.06-.94-.94-2.06-.94 2.06-2.06.94z\"/><path d=\"M17.41 7.96l-1.37-1.37c-.4-.4-.92-.59-1.43-.59-.52 0-1.04.2-1.43.59L10.3 9.45l-7.72 7.72c-.78.78-.78 2.05 0 2.83L4 21.41c.39.39.9.59 1.41.59.51 0 1.02-.2 1.41-.59l7.78-7.78 2.81-2.81c.8-.78.8-2.07 0-2.86zM5.41 20L4 18.59l7.72-7.72 1.47 1.35L5.41 20z\"/>\n",
              "  </svg>\n",
              "      </button>\n",
              "      \n",
              "  <style>\n",
              "    .colab-df-container {\n",
              "      display:flex;\n",
              "      flex-wrap:wrap;\n",
              "      gap: 12px;\n",
              "    }\n",
              "\n",
              "    .colab-df-convert {\n",
              "      background-color: #E8F0FE;\n",
              "      border: none;\n",
              "      border-radius: 50%;\n",
              "      cursor: pointer;\n",
              "      display: none;\n",
              "      fill: #1967D2;\n",
              "      height: 32px;\n",
              "      padding: 0 0 0 0;\n",
              "      width: 32px;\n",
              "    }\n",
              "\n",
              "    .colab-df-convert:hover {\n",
              "      background-color: #E2EBFA;\n",
              "      box-shadow: 0px 1px 2px rgba(60, 64, 67, 0.3), 0px 1px 3px 1px rgba(60, 64, 67, 0.15);\n",
              "      fill: #174EA6;\n",
              "    }\n",
              "\n",
              "    [theme=dark] .colab-df-convert {\n",
              "      background-color: #3B4455;\n",
              "      fill: #D2E3FC;\n",
              "    }\n",
              "\n",
              "    [theme=dark] .colab-df-convert:hover {\n",
              "      background-color: #434B5C;\n",
              "      box-shadow: 0px 1px 3px 1px rgba(0, 0, 0, 0.15);\n",
              "      filter: drop-shadow(0px 1px 2px rgba(0, 0, 0, 0.3));\n",
              "      fill: #FFFFFF;\n",
              "    }\n",
              "  </style>\n",
              "\n",
              "      <script>\n",
              "        const buttonEl =\n",
              "          document.querySelector('#df-99c049d1-dbd0-45a7-ac4a-4af4692c851c button.colab-df-convert');\n",
              "        buttonEl.style.display =\n",
              "          google.colab.kernel.accessAllowed ? 'block' : 'none';\n",
              "\n",
              "        async function convertToInteractive(key) {\n",
              "          const element = document.querySelector('#df-99c049d1-dbd0-45a7-ac4a-4af4692c851c');\n",
              "          const dataTable =\n",
              "            await google.colab.kernel.invokeFunction('convertToInteractive',\n",
              "                                                     [key], {});\n",
              "          if (!dataTable) return;\n",
              "\n",
              "          const docLinkHtml = 'Like what you see? Visit the ' +\n",
              "            '<a target=\"_blank\" href=https://colab.research.google.com/notebooks/data_table.ipynb>data table notebook</a>'\n",
              "            + ' to learn more about interactive tables.';\n",
              "          element.innerHTML = '';\n",
              "          dataTable['output_type'] = 'display_data';\n",
              "          await google.colab.output.renderOutput(dataTable, element);\n",
              "          const docLink = document.createElement('div');\n",
              "          docLink.innerHTML = docLinkHtml;\n",
              "          element.appendChild(docLink);\n",
              "        }\n",
              "      </script>\n",
              "    </div>\n",
              "  </div>\n",
              "  "
            ],
            "text/plain": [
              "         id  \\\n",
              "0  2017ec48   \n",
              "1  e3f0ea32   \n",
              "2  8743eae3   \n",
              "3  7b554248   \n",
              "4  bedd1403   \n",
              "5  8bbfd5a7   \n",
              "6  1b85aa7f   \n",
              "7  dde11e38   \n",
              "8  efebda46   \n",
              "9  e8017e35   \n",
              "\n",
              "                                                                                                                                                                                                                                                                                                                                                                                                                                                                                                                                                                                                                                                                                                                                                                                                                                                                                                                                                                                                                                      text  \n",
              "0                                                                                                                                                                                                                                                                                                                                                                                                                                                                                                                                                                                                                                                                                                                        Mình kêu 6 loại khác nhau , mỗi laoij 1 cục mà ăn cái nào cũng như nhau , cứ như đang ăn 1 loại vậy . Cuối cùng ngon nhất lại là cục khoai môn chiên . Mấy loại há cảo xíu mại bánh xẹp ăn ngán cực kỳ , mà làm cục to tổ bố để ép khách mua với cái giá 19k . Ko hiểu ăn được cái gì ở đây mà có người khen ngon  \n",
              "1                                                                                                                                                                                                                                                        Ăn ở đây từ trc khi chủ nhà xây nhà mới .   chất lg ko đổi còn giá có tăng từ từ 1-2k : ) )\\r\\nphần mìh kiu là 2 thường 2 trứng 22k - hơi no tẹo và CỰC KÌ NGONNN >   <\\r\\nđi vạn kiếp rẽ vào hẻm có biển hoa đàm ni tự và đi chừng 50m là tới , vì hẻm 2m nên để xe bên ngoài dọc theo 2 dãy nhà , chú chủ sẽ sắp xếp xe lại nhưng mình khuyến khích các b mua về : ) )   ăn tại chỗ thì bàn ghế sạch sẽ , ly uống nước là loại dùng 1 lần - > kết điểm này ! ! !\\r\\nphục vụ của 2 vk ck chủ thì miễn bàn , cực kì thân thiện . dạo này có 1 cô nữa phụ bán nhưng ko dc lanh lẹ lắm .\\r\\n* quán chỉ bán buổi sáng tới chừng 9-10g là hết . lâu lâu thì 11g .\\r\\n* hành phi tự làm ngon và giòn lắm nhé ^ ^ còn bánh cuốn thì gọi tới đâu làm tới đó , ko qá lâu và bánh còn ấm .  \n",
              "2                                                                                                                                                                                                                                                                                                                                                                                                                                                                                                                                                   Các bạn đến ăn ngay và luôn đi nhé ! !\\r\\nMình từ trước giờ chỉ Súp cua Súp óc heo làm tới , từ khi tới quán , mình đã biết thêm nhiều loại khác ( rong biển , hến , thập cẩm , . . mới đây còn có thêm súp còi điệp ) . Không chỉ có súp không âu nha , nhìn menu mà món nào cũng muôn ăn ... Ah , bánh Flan trà xanh cực ngon luôn , món khoái khẩu của mình ấy ... Mình không có thói quen chộp hình thức ăn trước khi ăn , nên các bạn đến ngay SÚP SÀI GÒN Q4 và cảm nhận nhé ^ ^  \n",
              "3                                                                                                                                                                                                                                                                                                                                                                                                                                                                                                                                                                                                                                                                                                                                                                                                 Đây gần như quán ruột của mình luôn : ) ) đây đồ ăn ngon , nhân viên dễ thương , mấy anh giữ xe phía ngoài cũng dễ thương ko kém : ) ) giá cả thì hợp lý khỏi bàn luôn rồi . Đây là 3 món ruột , lần nào đến cũng phải ăn : ) ) ) hahaaa  \n",
              "4                                                                                                                                                                                                                                                                                                                                                                                                                                                                                                                                                                                                                                                                            Tiếc là 25 năm sống ở Tây Ninh thì đây là lần đầu tiên mình ghé .\\r\\nThức ăn rất Việt Nam , ngon và vị tuyệt vời , giá hợp lý .\\r\\nKhuyết điểm :\\r\\nGiờ cơm trưa quán đắc nên đợi rất lâu ,\\r\\nMình quên giử số điện thoại để đặt chổ và thức ăn trước , a e ai ghé thì thêm vào giúp .\\r\\nHơi nóng , và chắc vì quán đông quá nên phần mỷ quan có điễm trừ ,  \n",
              "5  Vâ ̃ n la ̀ Ze ́ , Ze ́ luôn nhâ ́ t 👍\\r\\nCuô ́ i tuâ ̀ n no nê vơ ́ i my ̀ ga ̀ phô mai , sushi , ga ̀ ra ́ n thanh cua , soda va ̀ xoa ̀ i lă ́ c\\r\\nPha ̉ i no ́ i la ̀ sau ca ́ i mo ́ n ba ̣ ch tuô ̣ c xa ̀ o cay thi ̀ my ̀ ga ̀ phô mai la ̀ ca ́ i mo ́ n gây nghiê ̣ n nhâ ́ t 😍 my ̀ mê ̀ m dai co ́ vi ̣ cay cay , cu ̀ ng vơ ́ i ga ̀ viên gio ̀ n gio ̀ n 👍 yêu ca ́ i mo ́ n na ̀ y\\r\\nXoa ̀ i lă ́ c , đâu đâu cu ̃ ng xoa ̀ i lă ́ c , ma ̀ bư ̃ a nay mơ ́ i ăn xoa ̀ i lă ́ c cu ̉ a ze ́ , hi ̀ nh như la ̀ chung công thư ́ c hay sao nên thâ ́ y ăn chô ̃ na ̀ o cu ̃ ng giô ́ ng nhau , xoa ̀ i ngon , vi ̣ vư ̀ a ăn , ko qua ́ cay hay qua ́ mă ̣ n , nhưng co ́ miê ́ ng gio ̀ n miê ́ ng thi ̀ mê ̀ m 😢 mi ̀ nh la ̣ i thi ́ ch gio ̀ n hơn , nhưng to ́ m la ̣ i la ̀ vâ ̃ n ngon\\r\\nChu ̉ nhâ ̣ t , ma ̀ không pha ̉ i riêng chu ̉ nhâ ̣ t , buô ̉ i tô ́ i la ̀ ze ́ đông ơi la ̀ đông , nhưng ma ̀ phu ̣ c vu ̣ vâ ̃ n nhanh nhe ̣ n , nhiê ̣ t ti ̀ nh , thi ́ ch dê ̃ sơ ̣\\r\\nTô ́ i nay chă ́ c ng...  \n",
              "6  Nhà hàng đẹp , không gian rộng , có phòng riêng .\\r\\nSo với mặt bằng và vị trị thì giá cả như vậy là hợp lí , nhưng giá thức uống thì hơi cao .\\r\\nNhóm 7 người order 1combo dành cho 2 người rồi gọi thêm 1 phan kim chi , linh tinh cac rau củ nướng , 1 phan bò mỹ , 1ga lá quế phô mai ( ngon ) , sashimi cá hồi , 1 sụn gà chien gion ( lượng hơi it , giá hơi cao , ngon nhưng hơi lạt 1 chút ) , 1 cơm trộn ( ko co j dac biet , ko ngon lam ) , 1 cái lẩu miso , nuoc uong . Phải nói là ăn ngập mặt thịt thà luôn , cả đám ngán thịt lun , no muon lăn về .\\r\\nPhải công nhận là cái combo đó wa chất lượng và đáng đồng tien lam nha , nhìn hình tưởng ít , ai dè lên món thay qua troi , neu 2 ng mà ăn 1combo cho 2ng chac no căng bụng lun .\\r\\nNhà hàng có chuong trinh 1 nguoi check in & like page = tặng 50gr , nhóm mình 7ng check in & like page = tặng 350gr - - - > quá đã luôn .\\r\\nKhẩu vị : thịt bò mềm , ngon , nhưng hơi lạt , mù tạt ko cay , sashi mi cá hồi ăn ko ngon lắm vì có ăn vào gân\\r\\nNhân viê...  \n",
              "7                                                                                                                                                                                                                                                                                                                                                                                                                                                                                                                                                                                                                                                                                                                                                                                               Vừa rồi có ghé ăn tiêp , mình chọn món cơm cá hồi áp chảo , miếng cá hồi cực to , mình thấy rất đáng tiền cho suất này với giá 89k . Thịt cá hồi áp chảo chín tới , ăn béo và rất thơm . Phần này một mình mình ăn k hết . Rất đáng để thử  \n",
              "8                                                                                                                                                                                                                                                                                                                                                                                                                                                                                                                                                                                                                                                                                                                                                                                                                    Quán này bánh nhiều + ngon cực\\r\\nThích nhất là Flan Gatoux của quán\\r\\nNhân viên dễ thương , ko gian quán cũng đẹp nữa .\\r\\nHơi khó kiếm tí nên cứ tìm địa chỉ gần đó rồi hỏi người dân xung quanh là người ta chỉ .  \n",
              "9                                                                                                                                                                                                                                                                                                                                                                                                                                                                                                                                                    Đến với Wichita lúc đầy là về tarot nhưng trong thời gian chờ mình có gọi nước uống không ngờ loại nước uống ở đây cực kì ngon và đặc biệt lạ mang đậm phong cách riêng biệt .\\r\\nĐược các em phục vụ giới thiệu thêm món bánh canh chả cá Quy   Nhơn nữa , làm một tô giống nơi ngon nhất ở quê mình ( quy nhơn ) bán luôn .\\r\\nTúm lại là đậm chất các bạn nên đến thử và trả nghiệm , hiện tại đây là địa chỉ quen thuộc thường xuyên lui tới của mình .\\r\\nNgại gì mà không đến .  "
            ]
          },
          "execution_count": 99,
          "metadata": {},
          "output_type": "execute_result"
        }
      ],
      "source": [
        "test_df.head(10)"
      ]
    },
    {
      "attachments": {},
      "cell_type": "markdown",
      "metadata": {
        "id": "tuguTlxi1lN0"
      },
      "source": [
        "### **「予測」関数を構築する**\n"
      ]
    },
    {
      "cell_type": "code",
      "execution_count": 100,
      "metadata": {
        "colab": {
          "base_uri": "https://localhost:8080/"
        },
        "id": "veIWEq7U1dIs",
        "outputId": "789fd530-47e2-4628-d467-9fe1621a85ca"
      },
      "outputs": [
        {
          "name": "stdout",
          "output_type": "stream",
          "text": [
            "Model: \"sentiment_analysis\"\n",
            "_________________________________________________________________\n",
            " Layer (type)                Output Shape              Param #   \n",
            "=================================================================\n",
            " lstm_0 (LSTM)               multiple                  219648    \n",
            "                                                                 \n",
            " lstm_1 (LSTM)               multiple                  131584    \n",
            "                                                                 \n",
            " dropout_0 (Dropout)         multiple                  0         \n",
            "                                                                 \n",
            " dropout_1 (Dropout)         multiple                  0         \n",
            "                                                                 \n",
            " dense_0 (Dense)             multiple                  258       \n",
            "                                                                 \n",
            "=================================================================\n",
            "Total params: 351,490\n",
            "Trainable params: 351,490\n",
            "Non-trainable params: 0\n",
            "_________________________________________________________________\n"
          ]
        }
      ],
      "source": [
        "model.summary()"
      ]
    },
    {
      "cell_type": "code",
      "execution_count": 101,
      "metadata": {
        "colab": {
          "base_uri": "https://localhost:8080/"
        },
        "id": "SFHxIS2l1tB5",
        "outputId": "af3fd243-5f66-41f5-9fab-c723a1ab9889"
      },
      "outputs": [
        {
          "name": "stdout",
          "output_type": "stream",
          "text": [
            "Looking in indexes: https://pypi.org/simple, https://us-python.pkg.dev/colab-wheels/public/simple/\n",
            "Collecting pyvi\n",
            "  Downloading pyvi-0.1.1-py2.py3-none-any.whl (8.5 MB)\n",
            "\u001b[2K     \u001b[90m━━━━━━━━━━━━━━━━━━━━━━━━━━━━━━━━━━━━━━━━\u001b[0m \u001b[32m8.5/8.5 MB\u001b[0m \u001b[31m73.4 MB/s\u001b[0m eta \u001b[36m0:00:00\u001b[0m\n",
            "\u001b[?25hRequirement already satisfied: scikit-learn in /usr/local/lib/python3.10/dist-packages (from pyvi) (1.2.2)\n",
            "Collecting sklearn-crfsuite (from pyvi)\n",
            "  Downloading sklearn_crfsuite-0.3.6-py2.py3-none-any.whl (12 kB)\n",
            "Requirement already satisfied: numpy>=1.17.3 in /usr/local/lib/python3.10/dist-packages (from scikit-learn->pyvi) (1.22.4)\n",
            "Requirement already satisfied: scipy>=1.3.2 in /usr/local/lib/python3.10/dist-packages (from scikit-learn->pyvi) (1.10.1)\n",
            "Requirement already satisfied: joblib>=1.1.1 in /usr/local/lib/python3.10/dist-packages (from scikit-learn->pyvi) (1.2.0)\n",
            "Requirement already satisfied: threadpoolctl>=2.0.0 in /usr/local/lib/python3.10/dist-packages (from scikit-learn->pyvi) (3.1.0)\n",
            "Collecting python-crfsuite>=0.8.3 (from sklearn-crfsuite->pyvi)\n",
            "  Downloading python_crfsuite-0.9.9-cp310-cp310-manylinux_2_17_x86_64.manylinux2014_x86_64.whl (993 kB)\n",
            "\u001b[2K     \u001b[90m━━━━━━━━━━━━━━━━━━━━━━━━━━━━━━━━━━━━━━\u001b[0m \u001b[32m993.5/993.5 kB\u001b[0m \u001b[31m88.6 MB/s\u001b[0m eta \u001b[36m0:00:00\u001b[0m\n",
            "\u001b[?25hRequirement already satisfied: six in /usr/local/lib/python3.10/dist-packages (from sklearn-crfsuite->pyvi) (1.16.0)\n",
            "Requirement already satisfied: tabulate in /usr/local/lib/python3.10/dist-packages (from sklearn-crfsuite->pyvi) (0.8.10)\n",
            "Requirement already satisfied: tqdm>=2.0 in /usr/local/lib/python3.10/dist-packages (from sklearn-crfsuite->pyvi) (4.65.0)\n",
            "Installing collected packages: python-crfsuite, sklearn-crfsuite, pyvi\n",
            "Successfully installed python-crfsuite-0.9.9 pyvi-0.1.1 sklearn-crfsuite-0.3.6\n"
          ]
        }
      ],
      "source": [
        "!pip install pyvi"
      ]
    },
    {
      "cell_type": "code",
      "execution_count": 104,
      "metadata": {
        "id": "NhyBs5hJ1ysB"
      },
      "outputs": [],
      "source": [
        "from pyvi import ViTokenizer\n",
        "from keras.utils import pad_sequences\n",
        "import string\n",
        "\n",
        "def clean_document(doc):\n",
        "    doc = ViTokenizer.tokenize(doc) #Pyvi Vitokenizer library\n",
        "    doc = doc.lower() #Lower\n",
        "    tokens = doc.split() #Split in_to words\n",
        "    table = str.maketrans('', '', string.punctuation.replace(\"_\", \"\")) #Remove all punctuation\n",
        "    tokens = [w.translate(table) for w in tokens]\n",
        "    tokens = [word for word in tokens if word]\n",
        "    return tokens"
      ]
    },
    {
      "cell_type": "code",
      "execution_count": 105,
      "metadata": {
        "colab": {
          "base_uri": "https://localhost:8080/"
        },
        "id": "odoBzy5H2kTT",
        "outputId": "ffca461e-1f88-45b0-e20d-4d0bc0171cf0"
      },
      "outputs": [
        {
          "name": "stdout",
          "output_type": "stream",
          "text": [
            "Looking in indexes: https://pypi.org/simple, https://us-python.pkg.dev/colab-wheels/public/simple/\n",
            "Collecting underthesea\n",
            "  Downloading underthesea-6.2.0-py3-none-any.whl (19.2 MB)\n",
            "\u001b[2K     \u001b[90m━━━━━━━━━━━━━━━━━━━━━━━━━━━━━━━━━━━━━━━━\u001b[0m \u001b[32m19.2/19.2 MB\u001b[0m \u001b[31m47.5 MB/s\u001b[0m eta \u001b[36m0:00:00\u001b[0m\n",
            "\u001b[?25hRequirement already satisfied: Click>=6.0 in /usr/local/lib/python3.10/dist-packages (from underthesea) (8.1.3)\n",
            "Requirement already satisfied: python-crfsuite>=0.9.6 in /usr/local/lib/python3.10/dist-packages (from underthesea) (0.9.9)\n",
            "Requirement already satisfied: nltk in /usr/local/lib/python3.10/dist-packages (from underthesea) (3.8.1)\n",
            "Requirement already satisfied: tqdm in /usr/local/lib/python3.10/dist-packages (from underthesea) (4.65.0)\n",
            "Requirement already satisfied: requests in /usr/local/lib/python3.10/dist-packages (from underthesea) (2.27.1)\n",
            "Requirement already satisfied: joblib in /usr/local/lib/python3.10/dist-packages (from underthesea) (1.2.0)\n",
            "Requirement already satisfied: scikit-learn in /usr/local/lib/python3.10/dist-packages (from underthesea) (1.2.2)\n",
            "Requirement already satisfied: PyYAML in /usr/local/lib/python3.10/dist-packages (from underthesea) (6.0)\n",
            "Collecting underthesea-core==1.0.0 (from underthesea)\n",
            "  Downloading underthesea_core-1.0.0-cp310-cp310-manylinux2010_x86_64.whl (599 kB)\n",
            "\u001b[2K     \u001b[90m━━━━━━━━━━━━━━━━━━━━━━━━━━━━━━━━━━━━━━\u001b[0m \u001b[32m599.6/599.6 kB\u001b[0m \u001b[31m54.3 MB/s\u001b[0m eta \u001b[36m0:00:00\u001b[0m\n",
            "\u001b[?25hRequirement already satisfied: regex>=2021.8.3 in /usr/local/lib/python3.10/dist-packages (from nltk->underthesea) (2022.10.31)\n",
            "Requirement already satisfied: urllib3<1.27,>=1.21.1 in /usr/local/lib/python3.10/dist-packages (from requests->underthesea) (1.26.16)\n",
            "Requirement already satisfied: certifi>=2017.4.17 in /usr/local/lib/python3.10/dist-packages (from requests->underthesea) (2023.5.7)\n",
            "Requirement already satisfied: charset-normalizer~=2.0.0 in /usr/local/lib/python3.10/dist-packages (from requests->underthesea) (2.0.12)\n",
            "Requirement already satisfied: idna<4,>=2.5 in /usr/local/lib/python3.10/dist-packages (from requests->underthesea) (3.4)\n",
            "Requirement already satisfied: numpy>=1.17.3 in /usr/local/lib/python3.10/dist-packages (from scikit-learn->underthesea) (1.22.4)\n",
            "Requirement already satisfied: scipy>=1.3.2 in /usr/local/lib/python3.10/dist-packages (from scikit-learn->underthesea) (1.10.1)\n",
            "Requirement already satisfied: threadpoolctl>=2.0.0 in /usr/local/lib/python3.10/dist-packages (from scikit-learn->underthesea) (3.1.0)\n",
            "Installing collected packages: underthesea-core, underthesea\n",
            "Successfully installed underthesea-6.2.0 underthesea-core-1.0.0\n"
          ]
        }
      ],
      "source": [
        "try:\n",
        "    from underthesea import word_tokenize\n",
        "except:\n",
        "    !pip install underthesea\n",
        "    from underthesea import word_tokenize\n",
        "\n",
        "\n",
        "def predict(sentence, model, _word_list=words_list, _max_seq_length=MAX_SEQ_LENGTH):\n",
        "    \"\"\"\n",
        "    sentiment predicts\n",
        "\n",
        "    Parameters\n",
        "    ----------\n",
        "    sentence: str\n",
        "    model: model keras\n",
        "    _word_list: numpy.array\n",
        "    _max_seq_length: int\n",
        "    Returns\n",
        "    -------\n",
        "    int\n",
        "        0 :negative, 1 :positive\n",
        "    \"\"\"\n",
        "\n",
        "    # Tokenize/Separate words in sentences\n",
        "    # Use the word_tokenize function just imported above\n",
        "    tokenized_sent = clean_document(sentence)\n",
        "    tokenized_sent = ' '.join(tokenized_sent)\n",
        "\n",
        "\n",
        "    # Return the tokenized sentence to the appropriate input_data form to pass into the model\n",
        "    input_data = get_sentence_indices(clean_sentences(tokenized_sent), _max_seq_length, _word_list)\n",
        "    input_data = input_data.reshape(-1, _max_seq_length)\n",
        "\n",
        "    # Pass input_data through the model to get the probability of labels\n",
        "    predictions = model(input_data)\n",
        "    predictions = tf.argmax(predictions,1).numpy().astype(np.int32)\n",
        "\n",
        "    return predictions[0]\n",
        "\n"
      ]
    },
    {
      "cell_type": "code",
      "execution_count": 108,
      "metadata": {
        "colab": {
          "base_uri": "https://localhost:8080/"
        },
        "id": "gs5CzGzT3WsO",
        "outputId": "ea773b66-a3f1-4736-a4a1-03d57d9817a0"
      },
      "outputs": [
        {
          "data": {
            "text/plain": [
              "<tensorflow.python.checkpoint.checkpoint.CheckpointLoadStatus at 0x7f88bd28c820>"
            ]
          },
          "execution_count": 108,
          "metadata": {},
          "output_type": "execute_result"
        }
      ],
      "source": [
        "checkpoint_dir = './model'\n",
        "model.load_weights(tf.train.latest_checkpoint(checkpoint_dir))"
      ]
    },
    {
      "cell_type": "code",
      "execution_count": 111,
      "metadata": {
        "id": "1rjwudt03sJV"
      },
      "outputs": [],
      "source": [
        "model.save_weights(\"model_saved/model.h5\")"
      ]
    },
    {
      "cell_type": "code",
      "execution_count": 113,
      "metadata": {
        "colab": {
          "base_uri": "https://localhost:8080/"
        },
        "id": "0aX40X7L4Oxi",
        "outputId": "15ec08b5-ceec-4319-f90c-c1ba695fa5f0"
      },
      "outputs": [
        {
          "name": "stdout",
          "output_type": "stream",
          "text": [
            "Test 1: 0\n",
            "Test 2: 1\n"
          ]
        }
      ],
      "source": [
        "print(\"Test 1:\",predict(\"món này dở \", model))\n",
        "print(\"Test 2:\",predict(\"đồ ăn rất ngon\", model))\n"
      ]
    },
    {
      "cell_type": "code",
      "execution_count": 114,
      "metadata": {
        "colab": {
          "base_uri": "https://localhost:8080/",
          "height": 237
        },
        "id": "gi8Zw_cw4kQ9",
        "outputId": "5c3997d1-c9e2-4290-ef84-e7872708dc86"
      },
      "outputs": [
        {
          "data": {
            "text/html": [
              "\n",
              "  <div id=\"df-aa439961-763a-43a8-b514-32488bc9eb66\">\n",
              "    <div class=\"colab-df-container\">\n",
              "      <div>\n",
              "<style scoped>\n",
              "    .dataframe tbody tr th:only-of-type {\n",
              "        vertical-align: middle;\n",
              "    }\n",
              "\n",
              "    .dataframe tbody tr th {\n",
              "        vertical-align: top;\n",
              "    }\n",
              "\n",
              "    .dataframe thead th {\n",
              "        text-align: right;\n",
              "    }\n",
              "</style>\n",
              "<table border=\"1\" class=\"dataframe\">\n",
              "  <thead>\n",
              "    <tr style=\"text-align: right;\">\n",
              "      <th></th>\n",
              "      <th>class</th>\n",
              "    </tr>\n",
              "    <tr>\n",
              "      <th>id</th>\n",
              "      <th></th>\n",
              "    </tr>\n",
              "  </thead>\n",
              "  <tbody>\n",
              "    <tr>\n",
              "      <th>2017ec48</th>\n",
              "      <td>0</td>\n",
              "    </tr>\n",
              "    <tr>\n",
              "      <th>e3f0ea32</th>\n",
              "      <td>0</td>\n",
              "    </tr>\n",
              "    <tr>\n",
              "      <th>8743eae3</th>\n",
              "      <td>0</td>\n",
              "    </tr>\n",
              "    <tr>\n",
              "      <th>7b554248</th>\n",
              "      <td>0</td>\n",
              "    </tr>\n",
              "    <tr>\n",
              "      <th>bedd1403</th>\n",
              "      <td>0</td>\n",
              "    </tr>\n",
              "  </tbody>\n",
              "</table>\n",
              "</div>\n",
              "      <button class=\"colab-df-convert\" onclick=\"convertToInteractive('df-aa439961-763a-43a8-b514-32488bc9eb66')\"\n",
              "              title=\"Convert this dataframe to an interactive table.\"\n",
              "              style=\"display:none;\">\n",
              "        \n",
              "  <svg xmlns=\"http://www.w3.org/2000/svg\" height=\"24px\"viewBox=\"0 0 24 24\"\n",
              "       width=\"24px\">\n",
              "    <path d=\"M0 0h24v24H0V0z\" fill=\"none\"/>\n",
              "    <path d=\"M18.56 5.44l.94 2.06.94-2.06 2.06-.94-2.06-.94-.94-2.06-.94 2.06-2.06.94zm-11 1L8.5 8.5l.94-2.06 2.06-.94-2.06-.94L8.5 2.5l-.94 2.06-2.06.94zm10 10l.94 2.06.94-2.06 2.06-.94-2.06-.94-.94-2.06-.94 2.06-2.06.94z\"/><path d=\"M17.41 7.96l-1.37-1.37c-.4-.4-.92-.59-1.43-.59-.52 0-1.04.2-1.43.59L10.3 9.45l-7.72 7.72c-.78.78-.78 2.05 0 2.83L4 21.41c.39.39.9.59 1.41.59.51 0 1.02-.2 1.41-.59l7.78-7.78 2.81-2.81c.8-.78.8-2.07 0-2.86zM5.41 20L4 18.59l7.72-7.72 1.47 1.35L5.41 20z\"/>\n",
              "  </svg>\n",
              "      </button>\n",
              "      \n",
              "  <style>\n",
              "    .colab-df-container {\n",
              "      display:flex;\n",
              "      flex-wrap:wrap;\n",
              "      gap: 12px;\n",
              "    }\n",
              "\n",
              "    .colab-df-convert {\n",
              "      background-color: #E8F0FE;\n",
              "      border: none;\n",
              "      border-radius: 50%;\n",
              "      cursor: pointer;\n",
              "      display: none;\n",
              "      fill: #1967D2;\n",
              "      height: 32px;\n",
              "      padding: 0 0 0 0;\n",
              "      width: 32px;\n",
              "    }\n",
              "\n",
              "    .colab-df-convert:hover {\n",
              "      background-color: #E2EBFA;\n",
              "      box-shadow: 0px 1px 2px rgba(60, 64, 67, 0.3), 0px 1px 3px 1px rgba(60, 64, 67, 0.15);\n",
              "      fill: #174EA6;\n",
              "    }\n",
              "\n",
              "    [theme=dark] .colab-df-convert {\n",
              "      background-color: #3B4455;\n",
              "      fill: #D2E3FC;\n",
              "    }\n",
              "\n",
              "    [theme=dark] .colab-df-convert:hover {\n",
              "      background-color: #434B5C;\n",
              "      box-shadow: 0px 1px 3px 1px rgba(0, 0, 0, 0.15);\n",
              "      filter: drop-shadow(0px 1px 2px rgba(0, 0, 0, 0.3));\n",
              "      fill: #FFFFFF;\n",
              "    }\n",
              "  </style>\n",
              "\n",
              "      <script>\n",
              "        const buttonEl =\n",
              "          document.querySelector('#df-aa439961-763a-43a8-b514-32488bc9eb66 button.colab-df-convert');\n",
              "        buttonEl.style.display =\n",
              "          google.colab.kernel.accessAllowed ? 'block' : 'none';\n",
              "\n",
              "        async function convertToInteractive(key) {\n",
              "          const element = document.querySelector('#df-aa439961-763a-43a8-b514-32488bc9eb66');\n",
              "          const dataTable =\n",
              "            await google.colab.kernel.invokeFunction('convertToInteractive',\n",
              "                                                     [key], {});\n",
              "          if (!dataTable) return;\n",
              "\n",
              "          const docLinkHtml = 'Like what you see? Visit the ' +\n",
              "            '<a target=\"_blank\" href=https://colab.research.google.com/notebooks/data_table.ipynb>data table notebook</a>'\n",
              "            + ' to learn more about interactive tables.';\n",
              "          element.innerHTML = '';\n",
              "          dataTable['output_type'] = 'display_data';\n",
              "          await google.colab.output.renderOutput(dataTable, element);\n",
              "          const docLink = document.createElement('div');\n",
              "          docLink.innerHTML = docLinkHtml;\n",
              "          element.appendChild(docLink);\n",
              "        }\n",
              "      </script>\n",
              "    </div>\n",
              "  </div>\n",
              "  "
            ],
            "text/plain": [
              "          class\n",
              "id             \n",
              "2017ec48      0\n",
              "e3f0ea32      0\n",
              "8743eae3      0\n",
              "7b554248      0\n",
              "bedd1403      0"
            ]
          },
          "execution_count": 114,
          "metadata": {},
          "output_type": "execute_result"
        }
      ],
      "source": [
        "submission = pd.read_csv(data_dir+\"/sample_submission.csv\", index_col=0)\n",
        "submission.head()"
      ]
    },
    {
      "cell_type": "code",
      "execution_count": 115,
      "metadata": {
        "colab": {
          "base_uri": "https://localhost:8080/"
        },
        "id": "ocfmRnv84vKk",
        "outputId": "b0ddeada-d4fa-407e-f539-0356cda26d65"
      },
      "outputs": [
        {
          "name": "stderr",
          "output_type": "stream",
          "text": [
            "3000it [01:38, 30.38it/s]\n"
          ]
        }
      ],
      "source": [
        "for _, row in tqdm(test_df.iterrows()):\n",
        "    submission.loc[row.id] = predict(row.text, model)\n"
      ]
    },
    {
      "cell_type": "code",
      "execution_count": 116,
      "metadata": {
        "id": "06Ei3eyJ5Wek"
      },
      "outputs": [],
      "source": [
        "submission.to_csv('submission.csv')"
      ]
    }
  ],
  "metadata": {
    "accelerator": "GPU",
    "colab": {
      "gpuType": "T4",
      "provenance": []
    },
    "kernelspec": {
      "display_name": "Python 3",
      "name": "python3"
    },
    "language_info": {
      "name": "python"
    }
  },
  "nbformat": 4,
  "nbformat_minor": 0
}
